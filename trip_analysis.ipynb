{
 "cells": [
  {
   "cell_type": "code",
   "execution_count": 1,
   "id": "c5ac30a1-a33d-47c9-b7da-797311fd0563",
   "metadata": {},
   "outputs": [],
   "source": [
    "# !pip install dask[complete]"
   ]
  },
  {
   "cell_type": "markdown",
   "id": "39fe89cf-4d90-4309-a993-f9ce01ecd327",
   "metadata": {},
   "source": [
    "**DATA ACQUISITION**"
   ]
  },
  {
   "cell_type": "code",
   "execution_count": 4,
   "id": "2af79efe-f41d-4c56-ae8b-e0556631ae43",
   "metadata": {},
   "outputs": [],
   "source": [
    "import dask.dataframe as dd\n",
    "import pandas as pd\n",
    "import numpy as np\n",
    "import scipy.stats as stats\n",
    "import matplotlib.pyplot as plt\n",
    "from dask.distributed import Client\n",
    "import time \n",
    "from sklearn.preprocessing import PolynomialFeatures, StandardScaler \n",
    "from sklearn.ensemble import RandomForestRegressor\n",
    "import seaborn as sns  \n",
    "from sklearn.model_selection import train_test_split\n",
    "from sklearn.linear_model import LinearRegression \n",
    "from sklearn.metrics import mean_absolute_error, r2_score "
   ]
  },
  {
   "cell_type": "code",
   "execution_count": 5,
   "id": "026d4f42-cbd6-4e27-b2df-038f3078b7da",
   "metadata": {},
   "outputs": [],
   "source": [
    "# Loading both CSV files\n",
    "df1 = pd.read_csv(\"Trips_by_Distance.csv\")\n",
    "df2 = pd.read_csv(\"Trips_Full Data.csv\")"
   ]
  },
  {
   "cell_type": "markdown",
   "id": "3d8d3d95-3d4f-4210-b841-bd8bba4b6d7a",
   "metadata": {},
   "source": [
    "**DATA PRE -PROCESSING**"
   ]
  },
  {
   "cell_type": "code",
   "execution_count": 9,
   "id": "5ae5bc86-e1ae-4fc7-ba31-c4e5c2974a20",
   "metadata": {},
   "outputs": [
    {
     "data": {
      "text/html": [
       "<div>\n",
       "<style scoped>\n",
       "    .dataframe tbody tr th:only-of-type {\n",
       "        vertical-align: middle;\n",
       "    }\n",
       "\n",
       "    .dataframe tbody tr th {\n",
       "        vertical-align: top;\n",
       "    }\n",
       "\n",
       "    .dataframe thead th {\n",
       "        text-align: right;\n",
       "    }\n",
       "</style>\n",
       "<table border=\"1\" class=\"dataframe\">\n",
       "  <thead>\n",
       "    <tr style=\"text-align: right;\">\n",
       "      <th></th>\n",
       "      <th>Level</th>\n",
       "      <th>Date</th>\n",
       "      <th>State FIPS</th>\n",
       "      <th>State Postal Code</th>\n",
       "      <th>County FIPS</th>\n",
       "      <th>County Name</th>\n",
       "      <th>Population Staying at Home</th>\n",
       "      <th>Population Not Staying at Home</th>\n",
       "      <th>Number of Trips</th>\n",
       "      <th>Number of Trips &lt;1</th>\n",
       "      <th>...</th>\n",
       "      <th>Number of Trips 5-10</th>\n",
       "      <th>Number of Trips 10-25</th>\n",
       "      <th>Number of Trips 25-50</th>\n",
       "      <th>Number of Trips 50-100</th>\n",
       "      <th>Number of Trips 100-250</th>\n",
       "      <th>Number of Trips 250-500</th>\n",
       "      <th>Number of Trips &gt;=500</th>\n",
       "      <th>Row ID</th>\n",
       "      <th>Week</th>\n",
       "      <th>Month</th>\n",
       "    </tr>\n",
       "  </thead>\n",
       "  <tbody>\n",
       "    <tr>\n",
       "      <th>0</th>\n",
       "      <td>National</td>\n",
       "      <td>1/1/2019</td>\n",
       "      <td>NaN</td>\n",
       "      <td>NaN</td>\n",
       "      <td>NaN</td>\n",
       "      <td>NaN</td>\n",
       "      <td>77433867.0</td>\n",
       "      <td>248733553.0</td>\n",
       "      <td>8.977844e+08</td>\n",
       "      <td>241667151.0</td>\n",
       "      <td>...</td>\n",
       "      <td>129670778.0</td>\n",
       "      <td>116904343.0</td>\n",
       "      <td>40432062.0</td>\n",
       "      <td>15686639.0</td>\n",
       "      <td>7525563.0</td>\n",
       "      <td>1806022.0</td>\n",
       "      <td>1728112.0</td>\n",
       "      <td>00-00000-20190101</td>\n",
       "      <td>0</td>\n",
       "      <td>1</td>\n",
       "    </tr>\n",
       "    <tr>\n",
       "      <th>1</th>\n",
       "      <td>National</td>\n",
       "      <td>1/2/2019</td>\n",
       "      <td>NaN</td>\n",
       "      <td>NaN</td>\n",
       "      <td>NaN</td>\n",
       "      <td>NaN</td>\n",
       "      <td>61305201.0</td>\n",
       "      <td>264862219.0</td>\n",
       "      <td>1.139452e+09</td>\n",
       "      <td>291276735.0</td>\n",
       "      <td>...</td>\n",
       "      <td>171637514.0</td>\n",
       "      <td>167412698.0</td>\n",
       "      <td>56148976.0</td>\n",
       "      <td>17739183.0</td>\n",
       "      <td>7817044.0</td>\n",
       "      <td>1962301.0</td>\n",
       "      <td>1531219.0</td>\n",
       "      <td>00-00000-20190102</td>\n",
       "      <td>0</td>\n",
       "      <td>1</td>\n",
       "    </tr>\n",
       "    <tr>\n",
       "      <th>2</th>\n",
       "      <td>National</td>\n",
       "      <td>1/3/2019</td>\n",
       "      <td>NaN</td>\n",
       "      <td>NaN</td>\n",
       "      <td>NaN</td>\n",
       "      <td>NaN</td>\n",
       "      <td>63050480.0</td>\n",
       "      <td>263116940.0</td>\n",
       "      <td>1.162753e+09</td>\n",
       "      <td>296375014.0</td>\n",
       "      <td>...</td>\n",
       "      <td>175775410.0</td>\n",
       "      <td>172027487.0</td>\n",
       "      <td>57632422.0</td>\n",
       "      <td>18366626.0</td>\n",
       "      <td>8124548.0</td>\n",
       "      <td>2038099.0</td>\n",
       "      <td>1567072.0</td>\n",
       "      <td>00-00000-20190103</td>\n",
       "      <td>0</td>\n",
       "      <td>1</td>\n",
       "    </tr>\n",
       "    <tr>\n",
       "      <th>3</th>\n",
       "      <td>National</td>\n",
       "      <td>1/4/2019</td>\n",
       "      <td>NaN</td>\n",
       "      <td>NaN</td>\n",
       "      <td>NaN</td>\n",
       "      <td>NaN</td>\n",
       "      <td>61803652.0</td>\n",
       "      <td>264363768.0</td>\n",
       "      <td>1.181954e+09</td>\n",
       "      <td>293159631.0</td>\n",
       "      <td>...</td>\n",
       "      <td>181324645.0</td>\n",
       "      <td>176144493.0</td>\n",
       "      <td>58761592.0</td>\n",
       "      <td>19315785.0</td>\n",
       "      <td>8687318.0</td>\n",
       "      <td>2096065.0</td>\n",
       "      <td>1569185.0</td>\n",
       "      <td>00-00000-20190104</td>\n",
       "      <td>0</td>\n",
       "      <td>1</td>\n",
       "    </tr>\n",
       "    <tr>\n",
       "      <th>4</th>\n",
       "      <td>National</td>\n",
       "      <td>1/5/2019</td>\n",
       "      <td>NaN</td>\n",
       "      <td>NaN</td>\n",
       "      <td>NaN</td>\n",
       "      <td>NaN</td>\n",
       "      <td>64389745.0</td>\n",
       "      <td>261777675.0</td>\n",
       "      <td>1.180477e+09</td>\n",
       "      <td>295459014.0</td>\n",
       "      <td>...</td>\n",
       "      <td>180941769.0</td>\n",
       "      <td>165239790.0</td>\n",
       "      <td>54842134.0</td>\n",
       "      <td>19363939.0</td>\n",
       "      <td>8490791.0</td>\n",
       "      <td>1991159.0</td>\n",
       "      <td>1438664.0</td>\n",
       "      <td>00-00000-20190105</td>\n",
       "      <td>0</td>\n",
       "      <td>1</td>\n",
       "    </tr>\n",
       "  </tbody>\n",
       "</table>\n",
       "<p>5 rows × 22 columns</p>\n",
       "</div>"
      ],
      "text/plain": [
       "      Level      Date  State FIPS State Postal Code  County FIPS County Name  \\\n",
       "0  National  1/1/2019         NaN               NaN          NaN         NaN   \n",
       "1  National  1/2/2019         NaN               NaN          NaN         NaN   \n",
       "2  National  1/3/2019         NaN               NaN          NaN         NaN   \n",
       "3  National  1/4/2019         NaN               NaN          NaN         NaN   \n",
       "4  National  1/5/2019         NaN               NaN          NaN         NaN   \n",
       "\n",
       "   Population Staying at Home  Population Not Staying at Home  \\\n",
       "0                  77433867.0                     248733553.0   \n",
       "1                  61305201.0                     264862219.0   \n",
       "2                  63050480.0                     263116940.0   \n",
       "3                  61803652.0                     264363768.0   \n",
       "4                  64389745.0                     261777675.0   \n",
       "\n",
       "   Number of Trips  Number of Trips <1  ...  Number of Trips 5-10  \\\n",
       "0     8.977844e+08         241667151.0  ...           129670778.0   \n",
       "1     1.139452e+09         291276735.0  ...           171637514.0   \n",
       "2     1.162753e+09         296375014.0  ...           175775410.0   \n",
       "3     1.181954e+09         293159631.0  ...           181324645.0   \n",
       "4     1.180477e+09         295459014.0  ...           180941769.0   \n",
       "\n",
       "   Number of Trips 10-25  Number of Trips 25-50  Number of Trips 50-100  \\\n",
       "0            116904343.0             40432062.0              15686639.0   \n",
       "1            167412698.0             56148976.0              17739183.0   \n",
       "2            172027487.0             57632422.0              18366626.0   \n",
       "3            176144493.0             58761592.0              19315785.0   \n",
       "4            165239790.0             54842134.0              19363939.0   \n",
       "\n",
       "   Number of Trips 100-250  Number of Trips 250-500  Number of Trips >=500  \\\n",
       "0                7525563.0                1806022.0              1728112.0   \n",
       "1                7817044.0                1962301.0              1531219.0   \n",
       "2                8124548.0                2038099.0              1567072.0   \n",
       "3                8687318.0                2096065.0              1569185.0   \n",
       "4                8490791.0                1991159.0              1438664.0   \n",
       "\n",
       "              Row ID  Week Month  \n",
       "0  00-00000-20190101     0     1  \n",
       "1  00-00000-20190102     0     1  \n",
       "2  00-00000-20190103     0     1  \n",
       "3  00-00000-20190104     0     1  \n",
       "4  00-00000-20190105     0     1  \n",
       "\n",
       "[5 rows x 22 columns]"
      ]
     },
     "execution_count": 9,
     "metadata": {},
     "output_type": "execute_result"
    }
   ],
   "source": [
    "df1.head()"
   ]
  },
  {
   "cell_type": "code",
   "execution_count": 11,
   "id": "21fcde97-e765-489f-aa88-76efb0939f5d",
   "metadata": {},
   "outputs": [
    {
     "name": "stdout",
     "output_type": "stream",
     "text": [
      "<class 'pandas.core.frame.DataFrame'>\n",
      "RangeIndex: 1048575 entries, 0 to 1048574\n",
      "Data columns (total 22 columns):\n",
      " #   Column                          Non-Null Count    Dtype  \n",
      "---  ------                          --------------    -----  \n",
      " 0   Level                           1048575 non-null  object \n",
      " 1   Date                            1048575 non-null  object \n",
      " 2   State FIPS                      1047674 non-null  float64\n",
      " 3   State Postal Code               1047674 non-null  object \n",
      " 4   County FIPS                     1001723 non-null  float64\n",
      " 5   County Name                     1001723 non-null  object \n",
      " 6   Population Staying at Home      1035625 non-null  float64\n",
      " 7   Population Not Staying at Home  1035625 non-null  float64\n",
      " 8   Number of Trips                 1035625 non-null  float64\n",
      " 9   Number of Trips <1              1035625 non-null  float64\n",
      " 10  Number of Trips 1-3             1035625 non-null  float64\n",
      " 11  Number of Trips 3-5             1035625 non-null  float64\n",
      " 12  Number of Trips 5-10            1035625 non-null  float64\n",
      " 13  Number of Trips 10-25           1035625 non-null  float64\n",
      " 14  Number of Trips 25-50           1035625 non-null  float64\n",
      " 15  Number of Trips 50-100          1035625 non-null  float64\n",
      " 16  Number of Trips 100-250         1035625 non-null  float64\n",
      " 17  Number of Trips 250-500         1035625 non-null  float64\n",
      " 18  Number of Trips >=500           1035625 non-null  float64\n",
      " 19  Row ID                          1048575 non-null  object \n",
      " 20  Week                            1048575 non-null  int64  \n",
      " 21  Month                           1048575 non-null  int64  \n",
      "dtypes: float64(15), int64(2), object(5)\n",
      "memory usage: 176.0+ MB\n"
     ]
    }
   ],
   "source": [
    "df1.info()"
   ]
  },
  {
   "cell_type": "code",
   "execution_count": 13,
   "id": "4a3980ef-086f-4150-92e7-2453ded93c83",
   "metadata": {},
   "outputs": [
    {
     "data": {
      "text/html": [
       "<div>\n",
       "<style scoped>\n",
       "    .dataframe tbody tr th:only-of-type {\n",
       "        vertical-align: middle;\n",
       "    }\n",
       "\n",
       "    .dataframe tbody tr th {\n",
       "        vertical-align: top;\n",
       "    }\n",
       "\n",
       "    .dataframe thead th {\n",
       "        text-align: right;\n",
       "    }\n",
       "</style>\n",
       "<table border=\"1\" class=\"dataframe\">\n",
       "  <thead>\n",
       "    <tr style=\"text-align: right;\">\n",
       "      <th></th>\n",
       "      <th>Month of Date</th>\n",
       "      <th>Week of Date</th>\n",
       "      <th>Year of Date</th>\n",
       "      <th>Level</th>\n",
       "      <th>Date</th>\n",
       "      <th>Week Ending Date</th>\n",
       "      <th>Trips &lt;1 Mile</th>\n",
       "      <th>People Not Staying at Home</th>\n",
       "      <th>Population Staying at Home</th>\n",
       "      <th>Trips</th>\n",
       "      <th>...</th>\n",
       "      <th>Trips 10-25 Miles</th>\n",
       "      <th>Trips 100-250 Miles</th>\n",
       "      <th>Trips 100+ Miles</th>\n",
       "      <th>Trips 25-100 Miles</th>\n",
       "      <th>Trips 25-50 Miles</th>\n",
       "      <th>Trips 250-500 Miles</th>\n",
       "      <th>Trips 3-5 Miles</th>\n",
       "      <th>Trips 5-10 Miles</th>\n",
       "      <th>Trips 50-100 Miles</th>\n",
       "      <th>Trips 500+ Miles</th>\n",
       "    </tr>\n",
       "  </thead>\n",
       "  <tbody>\n",
       "    <tr>\n",
       "      <th>0</th>\n",
       "      <td>August</td>\n",
       "      <td>Week 32</td>\n",
       "      <td>2019</td>\n",
       "      <td>National</td>\n",
       "      <td>8/4/2019 0:00</td>\n",
       "      <td>10-Aug-19</td>\n",
       "      <td>292959749</td>\n",
       "      <td>258404133</td>\n",
       "      <td>67763287</td>\n",
       "      <td>1322685497</td>\n",
       "      <td>...</td>\n",
       "      <td>200922270</td>\n",
       "      <td>8595827</td>\n",
       "      <td>15338786</td>\n",
       "      <td>79429125</td>\n",
       "      <td>59517188</td>\n",
       "      <td>2273613</td>\n",
       "      <td>171336406</td>\n",
       "      <td>216121882</td>\n",
       "      <td>19911937</td>\n",
       "      <td>4469346</td>\n",
       "    </tr>\n",
       "    <tr>\n",
       "      <th>1</th>\n",
       "      <td>August</td>\n",
       "      <td>Week 32</td>\n",
       "      <td>2019</td>\n",
       "      <td>National</td>\n",
       "      <td>8/5/2019 0:00</td>\n",
       "      <td>10-Aug-19</td>\n",
       "      <td>317133861</td>\n",
       "      <td>262199758</td>\n",
       "      <td>63967662</td>\n",
       "      <td>1412564488</td>\n",
       "      <td>...</td>\n",
       "      <td>228809869</td>\n",
       "      <td>6535920</td>\n",
       "      <td>12563068</td>\n",
       "      <td>86004297</td>\n",
       "      <td>68184743</td>\n",
       "      <td>1941260</td>\n",
       "      <td>178996059</td>\n",
       "      <td>231048425</td>\n",
       "      <td>17819554</td>\n",
       "      <td>4085888</td>\n",
       "    </tr>\n",
       "    <tr>\n",
       "      <th>2</th>\n",
       "      <td>August</td>\n",
       "      <td>Week 32</td>\n",
       "      <td>2019</td>\n",
       "      <td>National</td>\n",
       "      <td>8/6/2019 0:00</td>\n",
       "      <td>10-Aug-19</td>\n",
       "      <td>324443205</td>\n",
       "      <td>260096133</td>\n",
       "      <td>66071287</td>\n",
       "      <td>1437762102</td>\n",
       "      <td>...</td>\n",
       "      <td>235621127</td>\n",
       "      <td>5993704</td>\n",
       "      <td>11104823</td>\n",
       "      <td>87599579</td>\n",
       "      <td>70149166</td>\n",
       "      <td>1741994</td>\n",
       "      <td>179210645</td>\n",
       "      <td>233248732</td>\n",
       "      <td>17450413</td>\n",
       "      <td>3369125</td>\n",
       "    </tr>\n",
       "    <tr>\n",
       "      <th>3</th>\n",
       "      <td>August</td>\n",
       "      <td>Week 32</td>\n",
       "      <td>2019</td>\n",
       "      <td>National</td>\n",
       "      <td>8/7/2019 0:00</td>\n",
       "      <td>10-Aug-19</td>\n",
       "      <td>358483024</td>\n",
       "      <td>258878802</td>\n",
       "      <td>67288618</td>\n",
       "      <td>1543710309</td>\n",
       "      <td>...</td>\n",
       "      <td>249988663</td>\n",
       "      <td>5379881</td>\n",
       "      <td>8528574</td>\n",
       "      <td>92200386</td>\n",
       "      <td>74381367</td>\n",
       "      <td>1272248</td>\n",
       "      <td>189163336</td>\n",
       "      <td>243872277</td>\n",
       "      <td>17819019</td>\n",
       "      <td>1876445</td>\n",
       "    </tr>\n",
       "    <tr>\n",
       "      <th>4</th>\n",
       "      <td>August</td>\n",
       "      <td>Week 32</td>\n",
       "      <td>2019</td>\n",
       "      <td>National</td>\n",
       "      <td>8/8/2019 0:00</td>\n",
       "      <td>10-Aug-19</td>\n",
       "      <td>300765870</td>\n",
       "      <td>262410045</td>\n",
       "      <td>63757375</td>\n",
       "      <td>1382044815</td>\n",
       "      <td>...</td>\n",
       "      <td>226055368</td>\n",
       "      <td>6259735</td>\n",
       "      <td>12892348</td>\n",
       "      <td>84193587</td>\n",
       "      <td>66724543</td>\n",
       "      <td>1957888</td>\n",
       "      <td>179346163</td>\n",
       "      <td>230933709</td>\n",
       "      <td>17469044</td>\n",
       "      <td>4674725</td>\n",
       "    </tr>\n",
       "  </tbody>\n",
       "</table>\n",
       "<p>5 rows × 22 columns</p>\n",
       "</div>"
      ],
      "text/plain": [
       "  Month of Date Week of Date  Year of Date     Level           Date  \\\n",
       "0        August      Week 32          2019  National  8/4/2019 0:00   \n",
       "1        August      Week 32          2019  National  8/5/2019 0:00   \n",
       "2        August      Week 32          2019  National  8/6/2019 0:00   \n",
       "3        August      Week 32          2019  National  8/7/2019 0:00   \n",
       "4        August      Week 32          2019  National  8/8/2019 0:00   \n",
       "\n",
       "  Week Ending Date  Trips <1 Mile  People Not Staying at Home  \\\n",
       "0        10-Aug-19      292959749                   258404133   \n",
       "1        10-Aug-19      317133861                   262199758   \n",
       "2        10-Aug-19      324443205                   260096133   \n",
       "3        10-Aug-19      358483024                   258878802   \n",
       "4        10-Aug-19      300765870                   262410045   \n",
       "\n",
       "   Population Staying at Home       Trips  ...  Trips 10-25 Miles  \\\n",
       "0                    67763287  1322685497  ...          200922270   \n",
       "1                    63967662  1412564488  ...          228809869   \n",
       "2                    66071287  1437762102  ...          235621127   \n",
       "3                    67288618  1543710309  ...          249988663   \n",
       "4                    63757375  1382044815  ...          226055368   \n",
       "\n",
       "   Trips 100-250 Miles  Trips 100+ Miles  Trips 25-100 Miles  \\\n",
       "0              8595827          15338786            79429125   \n",
       "1              6535920          12563068            86004297   \n",
       "2              5993704          11104823            87599579   \n",
       "3              5379881           8528574            92200386   \n",
       "4              6259735          12892348            84193587   \n",
       "\n",
       "   Trips 25-50 Miles  Trips 250-500 Miles  Trips 3-5 Miles  Trips 5-10 Miles  \\\n",
       "0           59517188              2273613        171336406         216121882   \n",
       "1           68184743              1941260        178996059         231048425   \n",
       "2           70149166              1741994        179210645         233248732   \n",
       "3           74381367              1272248        189163336         243872277   \n",
       "4           66724543              1957888        179346163         230933709   \n",
       "\n",
       "   Trips 50-100 Miles  Trips 500+ Miles  \n",
       "0            19911937           4469346  \n",
       "1            17819554           4085888  \n",
       "2            17450413           3369125  \n",
       "3            17819019           1876445  \n",
       "4            17469044           4674725  \n",
       "\n",
       "[5 rows x 22 columns]"
      ]
     },
     "execution_count": 13,
     "metadata": {},
     "output_type": "execute_result"
    }
   ],
   "source": [
    "df2.head()"
   ]
  },
  {
   "cell_type": "code",
   "execution_count": 15,
   "id": "8029f96e-40a8-4bb3-be87-be1cfab7308c",
   "metadata": {},
   "outputs": [
    {
     "name": "stdout",
     "output_type": "stream",
     "text": [
      "<class 'pandas.core.frame.DataFrame'>\n",
      "RangeIndex: 7 entries, 0 to 6\n",
      "Data columns (total 22 columns):\n",
      " #   Column                      Non-Null Count  Dtype \n",
      "---  ------                      --------------  ----- \n",
      " 0   Month of Date               7 non-null      object\n",
      " 1   Week of Date                7 non-null      object\n",
      " 2   Year of Date                7 non-null      int64 \n",
      " 3   Level                       7 non-null      object\n",
      " 4   Date                        7 non-null      object\n",
      " 5   Week Ending Date            7 non-null      object\n",
      " 6   Trips <1 Mile               7 non-null      int64 \n",
      " 7   People Not Staying at Home  7 non-null      int64 \n",
      " 8   Population Staying at Home  7 non-null      int64 \n",
      " 9   Trips                       7 non-null      int64 \n",
      " 10  Trips 1-25 Miles            7 non-null      int64 \n",
      " 11  Trips 1-3 Miles             7 non-null      int64 \n",
      " 12  Trips 10-25 Miles           7 non-null      int64 \n",
      " 13  Trips 100-250 Miles         7 non-null      int64 \n",
      " 14  Trips 100+ Miles            7 non-null      int64 \n",
      " 15  Trips 25-100 Miles          7 non-null      int64 \n",
      " 16  Trips 25-50 Miles           7 non-null      int64 \n",
      " 17  Trips 250-500 Miles         7 non-null      int64 \n",
      " 18  Trips 3-5 Miles             7 non-null      int64 \n",
      " 19  Trips 5-10 Miles            7 non-null      int64 \n",
      " 20  Trips 50-100 Miles          7 non-null      int64 \n",
      " 21  Trips 500+ Miles            7 non-null      int64 \n",
      "dtypes: int64(17), object(5)\n",
      "memory usage: 1.3+ KB\n"
     ]
    }
   ],
   "source": [
    "df2.info()"
   ]
  },
  {
   "cell_type": "code",
   "execution_count": 17,
   "id": "ffc22f2b-735a-4378-ab01-f96d86724edc",
   "metadata": {},
   "outputs": [
    {
     "data": {
      "text/plain": [
       "Index(['Level', 'Date', 'State FIPS', 'State Postal Code', 'County FIPS',\n",
       "       'County Name', 'Population Staying at Home',\n",
       "       'Population Not Staying at Home', 'Number of Trips',\n",
       "       'Number of Trips <1', 'Number of Trips 1-3', 'Number of Trips 3-5',\n",
       "       'Number of Trips 5-10', 'Number of Trips 10-25',\n",
       "       'Number of Trips 25-50', 'Number of Trips 50-100',\n",
       "       'Number of Trips 100-250', 'Number of Trips 250-500',\n",
       "       'Number of Trips >=500', 'Row ID', 'Week', 'Month'],\n",
       "      dtype='object')"
      ]
     },
     "execution_count": 17,
     "metadata": {},
     "output_type": "execute_result"
    }
   ],
   "source": [
    "df1.columns"
   ]
  },
  {
   "cell_type": "code",
   "execution_count": 19,
   "id": "49ee31bc-c20d-4f06-b050-995e34a22c01",
   "metadata": {},
   "outputs": [
    {
     "data": {
      "text/plain": [
       "Index(['Month of Date', 'Week of Date', 'Year of Date', 'Level', 'Date',\n",
       "       'Week Ending Date', 'Trips <1 Mile', 'People Not Staying at Home',\n",
       "       'Population Staying at Home', 'Trips', 'Trips 1-25 Miles',\n",
       "       'Trips 1-3 Miles', 'Trips 10-25 Miles', 'Trips 100-250 Miles',\n",
       "       'Trips 100+ Miles', 'Trips 25-100 Miles', 'Trips 25-50 Miles',\n",
       "       'Trips 250-500 Miles', 'Trips 3-5 Miles', 'Trips 5-10 Miles',\n",
       "       'Trips 50-100 Miles', 'Trips 500+ Miles'],\n",
       "      dtype='object')"
      ]
     },
     "execution_count": 19,
     "metadata": {},
     "output_type": "execute_result"
    }
   ],
   "source": [
    "df2.columns"
   ]
  },
  {
   "cell_type": "code",
   "execution_count": 21,
   "id": "84df4683-4d81-428d-a8f1-a11eaa9d8238",
   "metadata": {},
   "outputs": [
    {
     "data": {
      "text/plain": [
       "Level\n",
       "County      1001723\n",
       "State         45951\n",
       "National        901\n",
       "Name: count, dtype: int64"
      ]
     },
     "execution_count": 21,
     "metadata": {},
     "output_type": "execute_result"
    }
   ],
   "source": [
    "df1.Level.value_counts()"
   ]
  },
  {
   "cell_type": "code",
   "execution_count": 23,
   "id": "476cc345-39e0-4ab1-b1f4-6e3e40efc309",
   "metadata": {},
   "outputs": [
    {
     "data": {
      "text/plain": [
       "State Postal Code\n",
       "TX    81859\n",
       "GA    51623\n",
       "VA    43314\n",
       "KY    39181\n",
       "MO    37527\n",
       "KS    34408\n",
       "IL    33439\n",
       "NC    32732\n",
       "IA    32523\n",
       "TN    31202\n",
       "NE    30569\n",
       "IN    30249\n",
       "OH    28962\n",
       "MN    28606\n",
       "MI    27355\n",
       "MS    27027\n",
       "OK    25426\n",
       "AR    24829\n",
       "WI    23856\n",
       "AL    22256\n",
       "FL    22243\n",
       "PA    22231\n",
       "SD    21929\n",
       "CO    21328\n",
       "LA    21287\n",
       "NY    20661\n",
       "CA    19363\n",
       "MT    18804\n",
       "WV    18410\n",
       "ND    17842\n",
       "SC    15574\n",
       "ID    14937\n",
       "WA    13339\n",
       "OR    12385\n",
       "NM    11435\n",
       "AK    10169\n",
       "UT    10126\n",
       "MD     8546\n",
       "WY     8238\n",
       "NJ     7600\n",
       "NV     6308\n",
       "ME     6005\n",
       "AZ     5675\n",
       "VT     5353\n",
       "MA     5353\n",
       "NH     4084\n",
       "CT     3445\n",
       "HI     2496\n",
       "RI     2491\n",
       "DE     1855\n",
       "DC     1219\n",
       "Name: count, dtype: int64"
      ]
     },
     "execution_count": 23,
     "metadata": {},
     "output_type": "execute_result"
    }
   ],
   "source": [
    "df1['State Postal Code'].value_counts()"
   ]
  },
  {
   "cell_type": "code",
   "execution_count": 25,
   "id": "630131b9-5017-4064-aa9f-bd34aa9227e6",
   "metadata": {},
   "outputs": [
    {
     "data": {
      "text/plain": [
       "County Name\n",
       "Washington County    9560\n",
       "Jefferson County     7973\n",
       "Franklin County      7652\n",
       "Jackson County       7336\n",
       "Lincoln County       7334\n",
       "                     ... \n",
       "Sanpete County        318\n",
       "Tooele County         318\n",
       "Uintah County         318\n",
       "Nuckolls County       318\n",
       "Bandera County        318\n",
       "Name: count, Length: 1877, dtype: int64"
      ]
     },
     "execution_count": 25,
     "metadata": {},
     "output_type": "execute_result"
    }
   ],
   "source": [
    "df1['County Name'].value_counts()"
   ]
  },
  {
   "cell_type": "code",
   "execution_count": 27,
   "id": "72acc5f0-2e38-4802-9394-ad3ca0cb8634",
   "metadata": {},
   "outputs": [
    {
     "data": {
      "text/html": [
       "<div>\n",
       "<style scoped>\n",
       "    .dataframe tbody tr th:only-of-type {\n",
       "        vertical-align: middle;\n",
       "    }\n",
       "\n",
       "    .dataframe tbody tr th {\n",
       "        vertical-align: top;\n",
       "    }\n",
       "\n",
       "    .dataframe thead th {\n",
       "        text-align: right;\n",
       "    }\n",
       "</style>\n",
       "<table border=\"1\" class=\"dataframe\">\n",
       "  <thead>\n",
       "    <tr style=\"text-align: right;\">\n",
       "      <th></th>\n",
       "      <th>State FIPS</th>\n",
       "      <th>County FIPS</th>\n",
       "      <th>Population Staying at Home</th>\n",
       "      <th>Population Not Staying at Home</th>\n",
       "      <th>Number of Trips</th>\n",
       "      <th>Number of Trips &lt;1</th>\n",
       "      <th>Number of Trips 1-3</th>\n",
       "      <th>Number of Trips 3-5</th>\n",
       "      <th>Number of Trips 5-10</th>\n",
       "      <th>Number of Trips 10-25</th>\n",
       "      <th>Number of Trips 25-50</th>\n",
       "      <th>Number of Trips 50-100</th>\n",
       "      <th>Number of Trips 100-250</th>\n",
       "      <th>Number of Trips 250-500</th>\n",
       "      <th>Number of Trips &gt;=500</th>\n",
       "      <th>Week</th>\n",
       "      <th>Month</th>\n",
       "    </tr>\n",
       "  </thead>\n",
       "  <tbody>\n",
       "    <tr>\n",
       "      <th>count</th>\n",
       "      <td>1.047674e+06</td>\n",
       "      <td>1.001723e+06</td>\n",
       "      <td>1.035625e+06</td>\n",
       "      <td>1.035625e+06</td>\n",
       "      <td>1.035625e+06</td>\n",
       "      <td>1.035625e+06</td>\n",
       "      <td>1.035625e+06</td>\n",
       "      <td>1.035625e+06</td>\n",
       "      <td>1.035625e+06</td>\n",
       "      <td>1.035625e+06</td>\n",
       "      <td>1.035625e+06</td>\n",
       "      <td>1.035625e+06</td>\n",
       "      <td>1.035625e+06</td>\n",
       "      <td>1.035625e+06</td>\n",
       "      <td>1.035625e+06</td>\n",
       "      <td>1.048575e+06</td>\n",
       "      <td>1.048575e+06</td>\n",
       "    </tr>\n",
       "    <tr>\n",
       "      <th>mean</th>\n",
       "      <td>3.021900e+01</td>\n",
       "      <td>3.038029e+04</td>\n",
       "      <td>1.462917e+05</td>\n",
       "      <td>5.234714e+05</td>\n",
       "      <td>2.477794e+06</td>\n",
       "      <td>6.120798e+05</td>\n",
       "      <td>6.191970e+05</td>\n",
       "      <td>3.040894e+05</td>\n",
       "      <td>3.843100e+05</td>\n",
       "      <td>3.759380e+05</td>\n",
       "      <td>1.208128e+05</td>\n",
       "      <td>3.884712e+04</td>\n",
       "      <td>1.582453e+04</td>\n",
       "      <td>3.553210e+03</td>\n",
       "      <td>3.142248e+03</td>\n",
       "      <td>2.171479e+01</td>\n",
       "      <td>5.575419e+00</td>\n",
       "    </tr>\n",
       "    <tr>\n",
       "      <th>std</th>\n",
       "      <td>1.516822e+01</td>\n",
       "      <td>1.516011e+04</td>\n",
       "      <td>2.225797e+06</td>\n",
       "      <td>7.649900e+06</td>\n",
       "      <td>3.618162e+07</td>\n",
       "      <td>9.003866e+06</td>\n",
       "      <td>9.022217e+06</td>\n",
       "      <td>4.437764e+06</td>\n",
       "      <td>5.615742e+06</td>\n",
       "      <td>5.502116e+06</td>\n",
       "      <td>1.765528e+06</td>\n",
       "      <td>5.753918e+05</td>\n",
       "      <td>2.404323e+05</td>\n",
       "      <td>5.346122e+04</td>\n",
       "      <td>5.069772e+04</td>\n",
       "      <td>1.242963e+01</td>\n",
       "      <td>2.847674e+00</td>\n",
       "    </tr>\n",
       "    <tr>\n",
       "      <th>min</th>\n",
       "      <td>1.000000e+00</td>\n",
       "      <td>1.001000e+03</td>\n",
       "      <td>8.000000e+00</td>\n",
       "      <td>8.700000e+01</td>\n",
       "      <td>2.200000e+02</td>\n",
       "      <td>0.000000e+00</td>\n",
       "      <td>0.000000e+00</td>\n",
       "      <td>0.000000e+00</td>\n",
       "      <td>0.000000e+00</td>\n",
       "      <td>0.000000e+00</td>\n",
       "      <td>0.000000e+00</td>\n",
       "      <td>0.000000e+00</td>\n",
       "      <td>0.000000e+00</td>\n",
       "      <td>0.000000e+00</td>\n",
       "      <td>0.000000e+00</td>\n",
       "      <td>0.000000e+00</td>\n",
       "      <td>1.000000e+00</td>\n",
       "    </tr>\n",
       "    <tr>\n",
       "      <th>25%</th>\n",
       "      <td>1.800000e+01</td>\n",
       "      <td>1.817700e+04</td>\n",
       "      <td>2.079000e+03</td>\n",
       "      <td>9.793000e+03</td>\n",
       "      <td>4.978400e+04</td>\n",
       "      <td>1.048600e+04</td>\n",
       "      <td>1.138400e+04</td>\n",
       "      <td>4.794000e+03</td>\n",
       "      <td>6.463000e+03</td>\n",
       "      <td>8.001000e+03</td>\n",
       "      <td>3.860000e+03</td>\n",
       "      <td>1.240000e+03</td>\n",
       "      <td>3.630000e+02</td>\n",
       "      <td>5.800000e+01</td>\n",
       "      <td>2.700000e+01</td>\n",
       "      <td>1.100000e+01</td>\n",
       "      <td>3.000000e+00</td>\n",
       "    </tr>\n",
       "    <tr>\n",
       "      <th>50%</th>\n",
       "      <td>2.900000e+01</td>\n",
       "      <td>2.917500e+04</td>\n",
       "      <td>5.018000e+03</td>\n",
       "      <td>2.347400e+04</td>\n",
       "      <td>1.208760e+05</td>\n",
       "      <td>2.564200e+04</td>\n",
       "      <td>3.065800e+04</td>\n",
       "      <td>1.392300e+04</td>\n",
       "      <td>1.699900e+04</td>\n",
       "      <td>1.934500e+04</td>\n",
       "      <td>8.387000e+03</td>\n",
       "      <td>2.717000e+03</td>\n",
       "      <td>8.570000e+02</td>\n",
       "      <td>1.730000e+02</td>\n",
       "      <td>9.800000e+01</td>\n",
       "      <td>2.300000e+01</td>\n",
       "      <td>6.000000e+00</td>\n",
       "    </tr>\n",
       "    <tr>\n",
       "      <th>75%</th>\n",
       "      <td>4.500000e+01</td>\n",
       "      <td>4.508100e+04</td>\n",
       "      <td>1.595000e+04</td>\n",
       "      <td>7.131800e+04</td>\n",
       "      <td>3.603300e+05</td>\n",
       "      <td>7.775300e+04</td>\n",
       "      <td>9.619700e+04</td>\n",
       "      <td>4.621900e+04</td>\n",
       "      <td>5.446900e+04</td>\n",
       "      <td>5.515100e+04</td>\n",
       "      <td>2.109600e+04</td>\n",
       "      <td>6.679000e+03</td>\n",
       "      <td>2.372000e+03</td>\n",
       "      <td>5.330000e+02</td>\n",
       "      <td>4.260000e+02</td>\n",
       "      <td>3.200000e+01</td>\n",
       "      <td>8.000000e+00</td>\n",
       "    </tr>\n",
       "    <tr>\n",
       "      <th>max</th>\n",
       "      <td>5.600000e+01</td>\n",
       "      <td>5.604500e+04</td>\n",
       "      <td>1.102118e+08</td>\n",
       "      <td>2.737400e+08</td>\n",
       "      <td>1.569053e+09</td>\n",
       "      <td>4.227002e+08</td>\n",
       "      <td>4.051305e+08</td>\n",
       "      <td>1.980184e+08</td>\n",
       "      <td>2.526118e+08</td>\n",
       "      <td>2.565096e+08</td>\n",
       "      <td>7.636732e+07</td>\n",
       "      <td>2.873561e+07</td>\n",
       "      <td>1.447698e+07</td>\n",
       "      <td>3.651375e+06</td>\n",
       "      <td>5.003062e+06</td>\n",
       "      <td>5.200000e+01</td>\n",
       "      <td>1.200000e+01</td>\n",
       "    </tr>\n",
       "  </tbody>\n",
       "</table>\n",
       "</div>"
      ],
      "text/plain": [
       "         State FIPS   County FIPS  Population Staying at Home  \\\n",
       "count  1.047674e+06  1.001723e+06                1.035625e+06   \n",
       "mean   3.021900e+01  3.038029e+04                1.462917e+05   \n",
       "std    1.516822e+01  1.516011e+04                2.225797e+06   \n",
       "min    1.000000e+00  1.001000e+03                8.000000e+00   \n",
       "25%    1.800000e+01  1.817700e+04                2.079000e+03   \n",
       "50%    2.900000e+01  2.917500e+04                5.018000e+03   \n",
       "75%    4.500000e+01  4.508100e+04                1.595000e+04   \n",
       "max    5.600000e+01  5.604500e+04                1.102118e+08   \n",
       "\n",
       "       Population Not Staying at Home  Number of Trips  Number of Trips <1  \\\n",
       "count                    1.035625e+06     1.035625e+06        1.035625e+06   \n",
       "mean                     5.234714e+05     2.477794e+06        6.120798e+05   \n",
       "std                      7.649900e+06     3.618162e+07        9.003866e+06   \n",
       "min                      8.700000e+01     2.200000e+02        0.000000e+00   \n",
       "25%                      9.793000e+03     4.978400e+04        1.048600e+04   \n",
       "50%                      2.347400e+04     1.208760e+05        2.564200e+04   \n",
       "75%                      7.131800e+04     3.603300e+05        7.775300e+04   \n",
       "max                      2.737400e+08     1.569053e+09        4.227002e+08   \n",
       "\n",
       "       Number of Trips 1-3  Number of Trips 3-5  Number of Trips 5-10  \\\n",
       "count         1.035625e+06         1.035625e+06          1.035625e+06   \n",
       "mean          6.191970e+05         3.040894e+05          3.843100e+05   \n",
       "std           9.022217e+06         4.437764e+06          5.615742e+06   \n",
       "min           0.000000e+00         0.000000e+00          0.000000e+00   \n",
       "25%           1.138400e+04         4.794000e+03          6.463000e+03   \n",
       "50%           3.065800e+04         1.392300e+04          1.699900e+04   \n",
       "75%           9.619700e+04         4.621900e+04          5.446900e+04   \n",
       "max           4.051305e+08         1.980184e+08          2.526118e+08   \n",
       "\n",
       "       Number of Trips 10-25  Number of Trips 25-50  Number of Trips 50-100  \\\n",
       "count           1.035625e+06           1.035625e+06            1.035625e+06   \n",
       "mean            3.759380e+05           1.208128e+05            3.884712e+04   \n",
       "std             5.502116e+06           1.765528e+06            5.753918e+05   \n",
       "min             0.000000e+00           0.000000e+00            0.000000e+00   \n",
       "25%             8.001000e+03           3.860000e+03            1.240000e+03   \n",
       "50%             1.934500e+04           8.387000e+03            2.717000e+03   \n",
       "75%             5.515100e+04           2.109600e+04            6.679000e+03   \n",
       "max             2.565096e+08           7.636732e+07            2.873561e+07   \n",
       "\n",
       "       Number of Trips 100-250  Number of Trips 250-500  \\\n",
       "count             1.035625e+06             1.035625e+06   \n",
       "mean              1.582453e+04             3.553210e+03   \n",
       "std               2.404323e+05             5.346122e+04   \n",
       "min               0.000000e+00             0.000000e+00   \n",
       "25%               3.630000e+02             5.800000e+01   \n",
       "50%               8.570000e+02             1.730000e+02   \n",
       "75%               2.372000e+03             5.330000e+02   \n",
       "max               1.447698e+07             3.651375e+06   \n",
       "\n",
       "       Number of Trips >=500          Week         Month  \n",
       "count           1.035625e+06  1.048575e+06  1.048575e+06  \n",
       "mean            3.142248e+03  2.171479e+01  5.575419e+00  \n",
       "std             5.069772e+04  1.242963e+01  2.847674e+00  \n",
       "min             0.000000e+00  0.000000e+00  1.000000e+00  \n",
       "25%             2.700000e+01  1.100000e+01  3.000000e+00  \n",
       "50%             9.800000e+01  2.300000e+01  6.000000e+00  \n",
       "75%             4.260000e+02  3.200000e+01  8.000000e+00  \n",
       "max             5.003062e+06  5.200000e+01  1.200000e+01  "
      ]
     },
     "execution_count": 27,
     "metadata": {},
     "output_type": "execute_result"
    }
   ],
   "source": [
    "df1.describe()"
   ]
  },
  {
   "cell_type": "code",
   "execution_count": 29,
   "id": "e230222d-7783-4525-a03c-738f56564346",
   "metadata": {},
   "outputs": [
    {
     "data": {
      "text/plain": [
       "Level\n",
       "National    7\n",
       "Name: count, dtype: int64"
      ]
     },
     "execution_count": 29,
     "metadata": {},
     "output_type": "execute_result"
    }
   ],
   "source": [
    "df2.Level.value_counts()"
   ]
  },
  {
   "cell_type": "code",
   "execution_count": 31,
   "id": "bba886f9-b043-44bc-8979-77f4fa8ea42e",
   "metadata": {},
   "outputs": [
    {
     "data": {
      "text/plain": [
       "Month of Date\n",
       "August    7\n",
       "Name: count, dtype: int64"
      ]
     },
     "execution_count": 31,
     "metadata": {},
     "output_type": "execute_result"
    }
   ],
   "source": [
    "df2['Month of Date'].value_counts()"
   ]
  },
  {
   "cell_type": "code",
   "execution_count": 33,
   "id": "840ab17f-2d40-4ea8-8fa9-a24968e97769",
   "metadata": {},
   "outputs": [
    {
     "data": {
      "text/plain": [
       "Week of Date\n",
       "Week 32    7\n",
       "Name: count, dtype: int64"
      ]
     },
     "execution_count": 33,
     "metadata": {},
     "output_type": "execute_result"
    }
   ],
   "source": [
    "df2['Week of Date'].value_counts()"
   ]
  },
  {
   "cell_type": "code",
   "execution_count": 35,
   "id": "628ed184-3ede-4aeb-829f-1ce6a57b4381",
   "metadata": {},
   "outputs": [
    {
     "data": {
      "text/plain": [
       "Year of Date\n",
       "2019    7\n",
       "Name: count, dtype: int64"
      ]
     },
     "execution_count": 35,
     "metadata": {},
     "output_type": "execute_result"
    }
   ],
   "source": [
    "df2['Year of Date'].value_counts()"
   ]
  },
  {
   "cell_type": "code",
   "execution_count": 37,
   "id": "e8922bfb-d437-48e5-a8ec-e6077f6e8a24",
   "metadata": {},
   "outputs": [
    {
     "data": {
      "text/html": [
       "<div>\n",
       "<style scoped>\n",
       "    .dataframe tbody tr th:only-of-type {\n",
       "        vertical-align: middle;\n",
       "    }\n",
       "\n",
       "    .dataframe tbody tr th {\n",
       "        vertical-align: top;\n",
       "    }\n",
       "\n",
       "    .dataframe thead th {\n",
       "        text-align: right;\n",
       "    }\n",
       "</style>\n",
       "<table border=\"1\" class=\"dataframe\">\n",
       "  <thead>\n",
       "    <tr style=\"text-align: right;\">\n",
       "      <th></th>\n",
       "      <th>Year of Date</th>\n",
       "      <th>Trips &lt;1 Mile</th>\n",
       "      <th>People Not Staying at Home</th>\n",
       "      <th>Population Staying at Home</th>\n",
       "      <th>Trips</th>\n",
       "      <th>Trips 1-25 Miles</th>\n",
       "      <th>Trips 1-3 Miles</th>\n",
       "      <th>Trips 10-25 Miles</th>\n",
       "      <th>Trips 100-250 Miles</th>\n",
       "      <th>Trips 100+ Miles</th>\n",
       "      <th>Trips 25-100 Miles</th>\n",
       "      <th>Trips 25-50 Miles</th>\n",
       "      <th>Trips 250-500 Miles</th>\n",
       "      <th>Trips 3-5 Miles</th>\n",
       "      <th>Trips 5-10 Miles</th>\n",
       "      <th>Trips 50-100 Miles</th>\n",
       "      <th>Trips 500+ Miles</th>\n",
       "    </tr>\n",
       "  </thead>\n",
       "  <tbody>\n",
       "    <tr>\n",
       "      <th>count</th>\n",
       "      <td>7.0</td>\n",
       "      <td>7.000000e+00</td>\n",
       "      <td>7.000000e+00</td>\n",
       "      <td>7.000000e+00</td>\n",
       "      <td>7.000000e+00</td>\n",
       "      <td>7.000000e+00</td>\n",
       "      <td>7.000000e+00</td>\n",
       "      <td>7.000000e+00</td>\n",
       "      <td>7.000000e+00</td>\n",
       "      <td>7.000000e+00</td>\n",
       "      <td>7.000000e+00</td>\n",
       "      <td>7.000000e+00</td>\n",
       "      <td>7.000000e+00</td>\n",
       "      <td>7.000000e+00</td>\n",
       "      <td>7.000000e+00</td>\n",
       "      <td>7.000000e+00</td>\n",
       "      <td>7.000000e+00</td>\n",
       "    </tr>\n",
       "    <tr>\n",
       "      <th>mean</th>\n",
       "      <td>2019.0</td>\n",
       "      <td>3.259764e+08</td>\n",
       "      <td>2.631041e+08</td>\n",
       "      <td>6.306337e+07</td>\n",
       "      <td>1.441692e+09</td>\n",
       "      <td>1.015555e+09</td>\n",
       "      <td>3.694767e+08</td>\n",
       "      <td>2.310785e+08</td>\n",
       "      <td>6.850130e+06</td>\n",
       "      <td>1.212247e+07</td>\n",
       "      <td>8.803745e+07</td>\n",
       "      <td>6.915913e+07</td>\n",
       "      <td>1.829242e+06</td>\n",
       "      <td>1.815558e+08</td>\n",
       "      <td>2.334445e+08</td>\n",
       "      <td>1.887832e+07</td>\n",
       "      <td>3.443101e+06</td>\n",
       "    </tr>\n",
       "    <tr>\n",
       "      <th>std</th>\n",
       "      <td>0.0</td>\n",
       "      <td>2.424507e+07</td>\n",
       "      <td>5.029890e+06</td>\n",
       "      <td>5.029890e+06</td>\n",
       "      <td>7.644026e+07</td>\n",
       "      <td>4.935492e+07</td>\n",
       "      <td>2.061755e+07</td>\n",
       "      <td>1.595993e+07</td>\n",
       "      <td>1.117810e+06</td>\n",
       "      <td>2.045473e+06</td>\n",
       "      <td>5.376956e+06</td>\n",
       "      <td>5.147182e+06</td>\n",
       "      <td>3.015761e+05</td>\n",
       "      <td>6.145471e+06</td>\n",
       "      <td>9.185330e+06</td>\n",
       "      <td>1.595080e+06</td>\n",
       "      <td>1.019597e+06</td>\n",
       "    </tr>\n",
       "    <tr>\n",
       "      <th>min</th>\n",
       "      <td>2019.0</td>\n",
       "      <td>2.929597e+08</td>\n",
       "      <td>2.584041e+08</td>\n",
       "      <td>5.406600e+07</td>\n",
       "      <td>1.322685e+09</td>\n",
       "      <td>9.349578e+08</td>\n",
       "      <td>3.465773e+08</td>\n",
       "      <td>2.009223e+08</td>\n",
       "      <td>5.379881e+06</td>\n",
       "      <td>8.528574e+06</td>\n",
       "      <td>7.942912e+07</td>\n",
       "      <td>5.951719e+07</td>\n",
       "      <td>1.272248e+06</td>\n",
       "      <td>1.713364e+08</td>\n",
       "      <td>2.161219e+08</td>\n",
       "      <td>1.745041e+07</td>\n",
       "      <td>1.876445e+06</td>\n",
       "    </tr>\n",
       "    <tr>\n",
       "      <th>25%</th>\n",
       "      <td>2019.0</td>\n",
       "      <td>3.089499e+08</td>\n",
       "      <td>2.594875e+08</td>\n",
       "      <td>6.114337e+07</td>\n",
       "      <td>1.397305e+09</td>\n",
       "      <td>9.905281e+08</td>\n",
       "      <td>3.529333e+08</td>\n",
       "      <td>2.274326e+08</td>\n",
       "      <td>6.126720e+06</td>\n",
       "      <td>1.163900e+07</td>\n",
       "      <td>8.509894e+07</td>\n",
       "      <td>6.745464e+07</td>\n",
       "      <td>1.768012e+06</td>\n",
       "      <td>1.791034e+08</td>\n",
       "      <td>2.309911e+08</td>\n",
       "      <td>1.764403e+07</td>\n",
       "      <td>2.813090e+06</td>\n",
       "    </tr>\n",
       "    <tr>\n",
       "      <th>50%</th>\n",
       "      <td>2019.0</td>\n",
       "      <td>3.244432e+08</td>\n",
       "      <td>2.621998e+08</td>\n",
       "      <td>6.396766e+07</td>\n",
       "      <td>1.437762e+09</td>\n",
       "      <td>1.014614e+09</td>\n",
       "      <td>3.665340e+08</td>\n",
       "      <td>2.305803e+08</td>\n",
       "      <td>6.535920e+06</td>\n",
       "      <td>1.225654e+07</td>\n",
       "      <td>8.759958e+07</td>\n",
       "      <td>7.014917e+07</td>\n",
       "      <td>1.823661e+06</td>\n",
       "      <td>1.793462e+08</td>\n",
       "      <td>2.332487e+08</td>\n",
       "      <td>1.781955e+07</td>\n",
       "      <td>3.369125e+06</td>\n",
       "    </tr>\n",
       "    <tr>\n",
       "      <th>75%</th>\n",
       "      <td>2019.0</td>\n",
       "      <td>3.440244e+08</td>\n",
       "      <td>2.650241e+08</td>\n",
       "      <td>6.667995e+07</td>\n",
       "      <td>1.496538e+09</td>\n",
       "      <td>1.046881e+09</td>\n",
       "      <td>3.829423e+08</td>\n",
       "      <td>2.405966e+08</td>\n",
       "      <td>7.592922e+06</td>\n",
       "      <td>1.272771e+07</td>\n",
       "      <td>9.201497e+07</td>\n",
       "      <td>7.251285e+07</td>\n",
       "      <td>1.949574e+06</td>\n",
       "      <td>1.864191e+08</td>\n",
       "      <td>2.394431e+08</td>\n",
       "      <td>2.020250e+07</td>\n",
       "      <td>4.277617e+06</td>\n",
       "    </tr>\n",
       "    <tr>\n",
       "      <th>max</th>\n",
       "      <td>2019.0</td>\n",
       "      <td>3.584830e+08</td>\n",
       "      <td>2.721014e+08</td>\n",
       "      <td>6.776329e+07</td>\n",
       "      <td>1.543710e+09</td>\n",
       "      <td>1.084498e+09</td>\n",
       "      <td>4.014740e+08</td>\n",
       "      <td>2.499887e+08</td>\n",
       "      <td>8.595827e+06</td>\n",
       "      <td>1.533879e+07</td>\n",
       "      <td>9.500565e+07</td>\n",
       "      <td>7.451258e+07</td>\n",
       "      <td>2.273613e+06</td>\n",
       "      <td>1.891633e+08</td>\n",
       "      <td>2.438723e+08</td>\n",
       "      <td>2.118523e+07</td>\n",
       "      <td>4.674725e+06</td>\n",
       "    </tr>\n",
       "  </tbody>\n",
       "</table>\n",
       "</div>"
      ],
      "text/plain": [
       "       Year of Date  Trips <1 Mile  People Not Staying at Home  \\\n",
       "count           7.0   7.000000e+00                7.000000e+00   \n",
       "mean         2019.0   3.259764e+08                2.631041e+08   \n",
       "std             0.0   2.424507e+07                5.029890e+06   \n",
       "min          2019.0   2.929597e+08                2.584041e+08   \n",
       "25%          2019.0   3.089499e+08                2.594875e+08   \n",
       "50%          2019.0   3.244432e+08                2.621998e+08   \n",
       "75%          2019.0   3.440244e+08                2.650241e+08   \n",
       "max          2019.0   3.584830e+08                2.721014e+08   \n",
       "\n",
       "       Population Staying at Home         Trips  Trips 1-25 Miles  \\\n",
       "count                7.000000e+00  7.000000e+00      7.000000e+00   \n",
       "mean                 6.306337e+07  1.441692e+09      1.015555e+09   \n",
       "std                  5.029890e+06  7.644026e+07      4.935492e+07   \n",
       "min                  5.406600e+07  1.322685e+09      9.349578e+08   \n",
       "25%                  6.114337e+07  1.397305e+09      9.905281e+08   \n",
       "50%                  6.396766e+07  1.437762e+09      1.014614e+09   \n",
       "75%                  6.667995e+07  1.496538e+09      1.046881e+09   \n",
       "max                  6.776329e+07  1.543710e+09      1.084498e+09   \n",
       "\n",
       "       Trips 1-3 Miles  Trips 10-25 Miles  Trips 100-250 Miles  \\\n",
       "count     7.000000e+00       7.000000e+00         7.000000e+00   \n",
       "mean      3.694767e+08       2.310785e+08         6.850130e+06   \n",
       "std       2.061755e+07       1.595993e+07         1.117810e+06   \n",
       "min       3.465773e+08       2.009223e+08         5.379881e+06   \n",
       "25%       3.529333e+08       2.274326e+08         6.126720e+06   \n",
       "50%       3.665340e+08       2.305803e+08         6.535920e+06   \n",
       "75%       3.829423e+08       2.405966e+08         7.592922e+06   \n",
       "max       4.014740e+08       2.499887e+08         8.595827e+06   \n",
       "\n",
       "       Trips 100+ Miles  Trips 25-100 Miles  Trips 25-50 Miles  \\\n",
       "count      7.000000e+00        7.000000e+00       7.000000e+00   \n",
       "mean       1.212247e+07        8.803745e+07       6.915913e+07   \n",
       "std        2.045473e+06        5.376956e+06       5.147182e+06   \n",
       "min        8.528574e+06        7.942912e+07       5.951719e+07   \n",
       "25%        1.163900e+07        8.509894e+07       6.745464e+07   \n",
       "50%        1.225654e+07        8.759958e+07       7.014917e+07   \n",
       "75%        1.272771e+07        9.201497e+07       7.251285e+07   \n",
       "max        1.533879e+07        9.500565e+07       7.451258e+07   \n",
       "\n",
       "       Trips 250-500 Miles  Trips 3-5 Miles  Trips 5-10 Miles  \\\n",
       "count         7.000000e+00     7.000000e+00      7.000000e+00   \n",
       "mean          1.829242e+06     1.815558e+08      2.334445e+08   \n",
       "std           3.015761e+05     6.145471e+06      9.185330e+06   \n",
       "min           1.272248e+06     1.713364e+08      2.161219e+08   \n",
       "25%           1.768012e+06     1.791034e+08      2.309911e+08   \n",
       "50%           1.823661e+06     1.793462e+08      2.332487e+08   \n",
       "75%           1.949574e+06     1.864191e+08      2.394431e+08   \n",
       "max           2.273613e+06     1.891633e+08      2.438723e+08   \n",
       "\n",
       "       Trips 50-100 Miles  Trips 500+ Miles  \n",
       "count        7.000000e+00      7.000000e+00  \n",
       "mean         1.887832e+07      3.443101e+06  \n",
       "std          1.595080e+06      1.019597e+06  \n",
       "min          1.745041e+07      1.876445e+06  \n",
       "25%          1.764403e+07      2.813090e+06  \n",
       "50%          1.781955e+07      3.369125e+06  \n",
       "75%          2.020250e+07      4.277617e+06  \n",
       "max          2.118523e+07      4.674725e+06  "
      ]
     },
     "execution_count": 37,
     "metadata": {},
     "output_type": "execute_result"
    }
   ],
   "source": [
    "df2.describe()"
   ]
  },
  {
   "cell_type": "markdown",
   "id": "fc7a6666-a901-47b7-859d-0fc092ddd675",
   "metadata": {},
   "source": [
    "**DATA CLEANING**"
   ]
  },
  {
   "cell_type": "code",
   "execution_count": 40,
   "id": "a0ffb357-4062-4b88-97d6-d4b177cc35eb",
   "metadata": {},
   "outputs": [
    {
     "data": {
      "text/plain": [
       "0"
      ]
     },
     "execution_count": 40,
     "metadata": {},
     "output_type": "execute_result"
    }
   ],
   "source": [
    "df1.duplicated().sum()"
   ]
  },
  {
   "cell_type": "code",
   "execution_count": 42,
   "id": "2cb45829-229e-4b93-9f96-72ef7435c238",
   "metadata": {},
   "outputs": [
    {
     "data": {
      "text/plain": [
       "0"
      ]
     },
     "execution_count": 42,
     "metadata": {},
     "output_type": "execute_result"
    }
   ],
   "source": [
    "df2.duplicated().sum()"
   ]
  },
  {
   "cell_type": "code",
   "execution_count": 44,
   "id": "28d20022-9b48-4bed-81af-afebaf25b50a",
   "metadata": {},
   "outputs": [
    {
     "data": {
      "text/plain": [
       "Level                                 0\n",
       "Date                                  0\n",
       "State FIPS                          901\n",
       "State Postal Code                   901\n",
       "County FIPS                       46852\n",
       "County Name                       46852\n",
       "Population Staying at Home        12950\n",
       "Population Not Staying at Home    12950\n",
       "Number of Trips                   12950\n",
       "Number of Trips <1                12950\n",
       "Number of Trips 1-3               12950\n",
       "Number of Trips 3-5               12950\n",
       "Number of Trips 5-10              12950\n",
       "Number of Trips 10-25             12950\n",
       "Number of Trips 25-50             12950\n",
       "Number of Trips 50-100            12950\n",
       "Number of Trips 100-250           12950\n",
       "Number of Trips 250-500           12950\n",
       "Number of Trips >=500             12950\n",
       "Row ID                                0\n",
       "Week                                  0\n",
       "Month                                 0\n",
       "dtype: int64"
      ]
     },
     "execution_count": 44,
     "metadata": {},
     "output_type": "execute_result"
    }
   ],
   "source": [
    "df1.isnull().sum(axis=0) "
   ]
  },
  {
   "cell_type": "code",
   "execution_count": 46,
   "id": "9c97a4b5-5b90-4811-914e-1b86e64331fc",
   "metadata": {},
   "outputs": [
    {
     "data": {
      "text/plain": [
       "0          4\n",
       "1          4\n",
       "2          4\n",
       "3          4\n",
       "4          4\n",
       "          ..\n",
       "1048570    0\n",
       "1048571    0\n",
       "1048572    0\n",
       "1048573    0\n",
       "1048574    0\n",
       "Length: 1048575, dtype: int64"
      ]
     },
     "execution_count": 46,
     "metadata": {},
     "output_type": "execute_result"
    }
   ],
   "source": [
    "df1.isnull().sum(axis=1) "
   ]
  },
  {
   "cell_type": "markdown",
   "id": "094628e2-40e9-46aa-a617-468209df0f42",
   "metadata": {},
   "source": [
    "Handle Missing Values "
   ]
  },
  {
   "cell_type": "code",
   "execution_count": 49,
   "id": "ba4d183f-ab18-4b76-9d9d-1812850d2f57",
   "metadata": {},
   "outputs": [],
   "source": [
    "df1.dropna(how='all',inplace=True) "
   ]
  },
  {
   "cell_type": "code",
   "execution_count": 51,
   "id": "70cbe791-2d16-4573-b292-3dfbb0e2454d",
   "metadata": {},
   "outputs": [],
   "source": [
    "# Filling missing numerical values with 0\n",
    "df1.fillna(0, inplace=True)\n",
    "df2.fillna(0, inplace=True)"
   ]
  },
  {
   "cell_type": "code",
   "execution_count": 53,
   "id": "25122480-3202-44eb-af7a-4b7d5057eef0",
   "metadata": {},
   "outputs": [],
   "source": [
    "# Remove duplicates\n",
    "df1.drop_duplicates(inplace=True)\n",
    "df2.drop_duplicates(inplace=True)"
   ]
  },
  {
   "cell_type": "code",
   "execution_count": 55,
   "id": "97a18560-5da6-4a94-8e2e-df41aaa7bae1",
   "metadata": {},
   "outputs": [],
   "source": [
    "# Standardize Column Names (lowercase, replace spaces with underscores)\n",
    "df1.columns = df1.columns.str.lower().str.replace(' ', '_')\n",
    "df2.columns = df2.columns.str.lower().str.replace(' ', '_')"
   ]
  },
  {
   "cell_type": "code",
   "execution_count": 57,
   "id": "8dcf48f1-ef6c-4e89-add3-e65ea7871992",
   "metadata": {},
   "outputs": [
    {
     "data": {
      "text/html": [
       "<div>\n",
       "<style scoped>\n",
       "    .dataframe tbody tr th:only-of-type {\n",
       "        vertical-align: middle;\n",
       "    }\n",
       "\n",
       "    .dataframe tbody tr th {\n",
       "        vertical-align: top;\n",
       "    }\n",
       "\n",
       "    .dataframe thead th {\n",
       "        text-align: right;\n",
       "    }\n",
       "</style>\n",
       "<table border=\"1\" class=\"dataframe\">\n",
       "  <thead>\n",
       "    <tr style=\"text-align: right;\">\n",
       "      <th></th>\n",
       "      <th>level</th>\n",
       "      <th>date</th>\n",
       "      <th>state_fips</th>\n",
       "      <th>state_postal_code</th>\n",
       "      <th>county_fips</th>\n",
       "      <th>county_name</th>\n",
       "      <th>population_staying_at_home</th>\n",
       "      <th>population_not_staying_at_home</th>\n",
       "      <th>number_of_trips</th>\n",
       "      <th>number_of_trips_&lt;1</th>\n",
       "      <th>...</th>\n",
       "      <th>number_of_trips_3-5</th>\n",
       "      <th>number_of_trips_5-10</th>\n",
       "      <th>number_of_trips_10-25</th>\n",
       "      <th>number_of_trips_25-50</th>\n",
       "      <th>number_of_trips_50-100</th>\n",
       "      <th>number_of_trips_100-250</th>\n",
       "      <th>number_of_trips_250-500</th>\n",
       "      <th>number_of_trips_&gt;=500</th>\n",
       "      <th>week</th>\n",
       "      <th>month</th>\n",
       "    </tr>\n",
       "  </thead>\n",
       "  <tbody>\n",
       "    <tr>\n",
       "      <th>0</th>\n",
       "      <td>National</td>\n",
       "      <td>1/1/2019</td>\n",
       "      <td>0.0</td>\n",
       "      <td>0</td>\n",
       "      <td>0.0</td>\n",
       "      <td>0</td>\n",
       "      <td>77433867.0</td>\n",
       "      <td>248733553.0</td>\n",
       "      <td>8.977844e+08</td>\n",
       "      <td>241667151.0</td>\n",
       "      <td>...</td>\n",
       "      <td>108078903.0</td>\n",
       "      <td>129670778.0</td>\n",
       "      <td>116904343.0</td>\n",
       "      <td>40432062.0</td>\n",
       "      <td>15686639.0</td>\n",
       "      <td>7525563.0</td>\n",
       "      <td>1806022.0</td>\n",
       "      <td>1728112.0</td>\n",
       "      <td>0</td>\n",
       "      <td>1</td>\n",
       "    </tr>\n",
       "    <tr>\n",
       "      <th>1</th>\n",
       "      <td>National</td>\n",
       "      <td>1/2/2019</td>\n",
       "      <td>0.0</td>\n",
       "      <td>0</td>\n",
       "      <td>0.0</td>\n",
       "      <td>0</td>\n",
       "      <td>61305201.0</td>\n",
       "      <td>264862219.0</td>\n",
       "      <td>1.139452e+09</td>\n",
       "      <td>291276735.0</td>\n",
       "      <td>...</td>\n",
       "      <td>138039296.0</td>\n",
       "      <td>171637514.0</td>\n",
       "      <td>167412698.0</td>\n",
       "      <td>56148976.0</td>\n",
       "      <td>17739183.0</td>\n",
       "      <td>7817044.0</td>\n",
       "      <td>1962301.0</td>\n",
       "      <td>1531219.0</td>\n",
       "      <td>0</td>\n",
       "      <td>1</td>\n",
       "    </tr>\n",
       "    <tr>\n",
       "      <th>2</th>\n",
       "      <td>National</td>\n",
       "      <td>1/3/2019</td>\n",
       "      <td>0.0</td>\n",
       "      <td>0</td>\n",
       "      <td>0.0</td>\n",
       "      <td>0</td>\n",
       "      <td>63050480.0</td>\n",
       "      <td>263116940.0</td>\n",
       "      <td>1.162753e+09</td>\n",
       "      <td>296375014.0</td>\n",
       "      <td>...</td>\n",
       "      <td>140771581.0</td>\n",
       "      <td>175775410.0</td>\n",
       "      <td>172027487.0</td>\n",
       "      <td>57632422.0</td>\n",
       "      <td>18366626.0</td>\n",
       "      <td>8124548.0</td>\n",
       "      <td>2038099.0</td>\n",
       "      <td>1567072.0</td>\n",
       "      <td>0</td>\n",
       "      <td>1</td>\n",
       "    </tr>\n",
       "    <tr>\n",
       "      <th>3</th>\n",
       "      <td>National</td>\n",
       "      <td>1/4/2019</td>\n",
       "      <td>0.0</td>\n",
       "      <td>0</td>\n",
       "      <td>0.0</td>\n",
       "      <td>0</td>\n",
       "      <td>61803652.0</td>\n",
       "      <td>264363768.0</td>\n",
       "      <td>1.181954e+09</td>\n",
       "      <td>293159631.0</td>\n",
       "      <td>...</td>\n",
       "      <td>145251819.0</td>\n",
       "      <td>181324645.0</td>\n",
       "      <td>176144493.0</td>\n",
       "      <td>58761592.0</td>\n",
       "      <td>19315785.0</td>\n",
       "      <td>8687318.0</td>\n",
       "      <td>2096065.0</td>\n",
       "      <td>1569185.0</td>\n",
       "      <td>0</td>\n",
       "      <td>1</td>\n",
       "    </tr>\n",
       "    <tr>\n",
       "      <th>4</th>\n",
       "      <td>National</td>\n",
       "      <td>1/5/2019</td>\n",
       "      <td>0.0</td>\n",
       "      <td>0</td>\n",
       "      <td>0.0</td>\n",
       "      <td>0</td>\n",
       "      <td>64389745.0</td>\n",
       "      <td>261777675.0</td>\n",
       "      <td>1.180477e+09</td>\n",
       "      <td>295459014.0</td>\n",
       "      <td>...</td>\n",
       "      <td>148540651.0</td>\n",
       "      <td>180941769.0</td>\n",
       "      <td>165239790.0</td>\n",
       "      <td>54842134.0</td>\n",
       "      <td>19363939.0</td>\n",
       "      <td>8490791.0</td>\n",
       "      <td>1991159.0</td>\n",
       "      <td>1438664.0</td>\n",
       "      <td>0</td>\n",
       "      <td>1</td>\n",
       "    </tr>\n",
       "  </tbody>\n",
       "</table>\n",
       "<p>5 rows × 21 columns</p>\n",
       "</div>"
      ],
      "text/plain": [
       "      level      date  state_fips state_postal_code  county_fips county_name  \\\n",
       "0  National  1/1/2019         0.0                 0          0.0           0   \n",
       "1  National  1/2/2019         0.0                 0          0.0           0   \n",
       "2  National  1/3/2019         0.0                 0          0.0           0   \n",
       "3  National  1/4/2019         0.0                 0          0.0           0   \n",
       "4  National  1/5/2019         0.0                 0          0.0           0   \n",
       "\n",
       "   population_staying_at_home  population_not_staying_at_home  \\\n",
       "0                  77433867.0                     248733553.0   \n",
       "1                  61305201.0                     264862219.0   \n",
       "2                  63050480.0                     263116940.0   \n",
       "3                  61803652.0                     264363768.0   \n",
       "4                  64389745.0                     261777675.0   \n",
       "\n",
       "   number_of_trips  number_of_trips_<1  ...  number_of_trips_3-5  \\\n",
       "0     8.977844e+08         241667151.0  ...          108078903.0   \n",
       "1     1.139452e+09         291276735.0  ...          138039296.0   \n",
       "2     1.162753e+09         296375014.0  ...          140771581.0   \n",
       "3     1.181954e+09         293159631.0  ...          145251819.0   \n",
       "4     1.180477e+09         295459014.0  ...          148540651.0   \n",
       "\n",
       "   number_of_trips_5-10  number_of_trips_10-25  number_of_trips_25-50  \\\n",
       "0           129670778.0            116904343.0             40432062.0   \n",
       "1           171637514.0            167412698.0             56148976.0   \n",
       "2           175775410.0            172027487.0             57632422.0   \n",
       "3           181324645.0            176144493.0             58761592.0   \n",
       "4           180941769.0            165239790.0             54842134.0   \n",
       "\n",
       "   number_of_trips_50-100  number_of_trips_100-250  number_of_trips_250-500  \\\n",
       "0              15686639.0                7525563.0                1806022.0   \n",
       "1              17739183.0                7817044.0                1962301.0   \n",
       "2              18366626.0                8124548.0                2038099.0   \n",
       "3              19315785.0                8687318.0                2096065.0   \n",
       "4              19363939.0                8490791.0                1991159.0   \n",
       "\n",
       "   number_of_trips_>=500  week  month  \n",
       "0              1728112.0     0      1  \n",
       "1              1531219.0     0      1  \n",
       "2              1567072.0     0      1  \n",
       "3              1569185.0     0      1  \n",
       "4              1438664.0     0      1  \n",
       "\n",
       "[5 rows x 21 columns]"
      ]
     },
     "execution_count": 57,
     "metadata": {},
     "output_type": "execute_result"
    }
   ],
   "source": [
    "# remove unwanted columns\n",
    "df1 = df1.drop('row_id',axis=1)\n",
    "df1.head()"
   ]
  },
  {
   "cell_type": "code",
   "execution_count": 59,
   "id": "4c1bba73-76ab-4d9b-8eae-23aef5c8767e",
   "metadata": {},
   "outputs": [
    {
     "data": {
      "text/plain": [
       "Index(['level', 'date', 'state_postal_code', 'county_name'], dtype='object')"
      ]
     },
     "execution_count": 59,
     "metadata": {},
     "output_type": "execute_result"
    }
   ],
   "source": [
    "df1.select_dtypes(include=['object']).columns"
   ]
  },
  {
   "cell_type": "code",
   "execution_count": 61,
   "id": "6e7287fc-106e-4aa0-8478-6688ed213444",
   "metadata": {},
   "outputs": [
    {
     "data": {
      "text/plain": [
       "Index(['month_of_date', 'week_of_date', 'level', 'date', 'week_ending_date'], dtype='object')"
      ]
     },
     "execution_count": 61,
     "metadata": {},
     "output_type": "execute_result"
    }
   ],
   "source": [
    "df2.select_dtypes(include=['object']).columns"
   ]
  },
  {
   "cell_type": "code",
   "execution_count": 65,
   "id": "ad9824c0-7919-472f-b68a-609a94d08fac",
   "metadata": {},
   "outputs": [
    {
     "ename": "SyntaxError",
     "evalue": "incomplete input (2439446804.py, line 4)",
     "output_type": "error",
     "traceback": [
      "\u001b[1;36m  Cell \u001b[1;32mIn[65], line 4\u001b[1;36m\u001b[0m\n\u001b[1;33m    df2['week_ending_date'] = pd.to_datetime(df2['week_ending_date']\u001b[0m\n\u001b[1;37m                                                                    ^\u001b[0m\n\u001b[1;31mSyntaxError\u001b[0m\u001b[1;31m:\u001b[0m incomplete input\n"
     ]
    }
   ],
   "source": [
    "# Convert date columns to datetime format\n",
    "df1['date'] = pd.to_datetime(df1['date'])\n",
    "df2['date'] = pd.to_datetime(df2['date'])\n",
    "df2['week_ending_date'] = pd.to_datetime(df2['week_ending_date']\n"
   ]
  },
  {
   "cell_type": "code",
   "execution_count": 67,
   "id": "8f37d153-8d88-43f3-a87b-d9ad68d02366",
   "metadata": {},
   "outputs": [],
   "source": [
    "# Convert text data into numeric (using categorical codes)"
   ]
  },
  {
   "cell_type": "code",
   "execution_count": 69,
   "id": "c2783f0a-32c3-4c2c-86a4-c2de5c765108",
   "metadata": {},
   "outputs": [
    {
     "data": {
      "text/plain": [
       "0    National\n",
       "1    National\n",
       "2    National\n",
       "3    National\n",
       "4    National\n",
       "Name: level, dtype: object"
      ]
     },
     "execution_count": 69,
     "metadata": {},
     "output_type": "execute_result"
    }
   ],
   "source": [
    "df1['level'].head()"
   ]
  },
  {
   "cell_type": "code",
   "execution_count": 71,
   "id": "fac6ca25-dc24-4914-91ce-ab5515fadf6b",
   "metadata": {},
   "outputs": [
    {
     "data": {
      "text/plain": [
       "level\n",
       "County      1001723\n",
       "State         45951\n",
       "National        901\n",
       "Name: count, dtype: int64"
      ]
     },
     "execution_count": 71,
     "metadata": {},
     "output_type": "execute_result"
    }
   ],
   "source": [
    "df1.level.value_counts()"
   ]
  },
  {
   "cell_type": "code",
   "execution_count": 73,
   "id": "e3c0bcc7-575d-4692-85e0-195266113eff",
   "metadata": {},
   "outputs": [
    {
     "data": {
      "text/plain": [
       "level\n",
       "0    1001723\n",
       "1      45951\n",
       "2        901\n",
       "Name: count, dtype: int64"
      ]
     },
     "execution_count": 73,
     "metadata": {},
     "output_type": "execute_result"
    }
   ],
   "source": [
    "df1.level = pd.Categorical(df1.level,['County','State','National']).codes\n",
    "df1.level.value_counts()"
   ]
  },
  {
   "cell_type": "code",
   "execution_count": 75,
   "id": "b1f7e830-4458-4c54-8c21-f641312663a8",
   "metadata": {},
   "outputs": [
    {
     "data": {
      "text/plain": [
       "array([0, 'NV', 'FL', 'DC', 'DE', 'CT', 'CO', 'NH', 'NJ', 'NM', 'NY',\n",
       "       'NC', 'ND', 'OH', 'OK', 'OR', 'PA', 'RI', 'SC', 'AL', 'ID', 'IL',\n",
       "       'IN', 'IA', 'SD', 'GA', 'KS', 'KY', 'LA', 'AZ', 'AR', 'CA', 'AK',\n",
       "       'TN', 'TX', 'UT', 'VT', 'VA', 'WA', 'WV', 'WI', 'WY', 'MD', 'MA',\n",
       "       'ME', 'HI', 'MI', 'MN', 'MS', 'MO', 'MT', 'NE'], dtype=object)"
      ]
     },
     "execution_count": 75,
     "metadata": {},
     "output_type": "execute_result"
    }
   ],
   "source": [
    "df1.state_postal_code.unique()"
   ]
  },
  {
   "cell_type": "code",
   "execution_count": 77,
   "id": "a2c5fa92-ea8d-4f56-ba7d-9ea743286876",
   "metadata": {},
   "outputs": [
    {
     "data": {
      "text/plain": [
       "array(['NV', 'FL', 'DC', 'DE', 'CT', 'CO', 'NH', 'NJ', 'NM', 'NY', 'NC',\n",
       "       'ND', 'OH', 'OK', 'OR', 'PA', 'RI', 'SC', 'AL', 'ID', 'IL', 'IN',\n",
       "       'IA', 'SD', 'GA', 'KS', 'KY', 'LA', 'AZ', 'AR', 'CA', 'AK', 'TN',\n",
       "       'TX', 'UT', 'VT', 'VA', 'WA', 'WV', 'WI', 'WY', 'MD', 'MA', 'ME',\n",
       "       'HI', 'MI', 'MN', 'MS', 'MO', 'MT', 'NE'], dtype=object)"
      ]
     },
     "execution_count": 77,
     "metadata": {},
     "output_type": "execute_result"
    }
   ],
   "source": [
    "df1.state_postal_code.unique()[1:] # avoiding nan data"
   ]
  },
  {
   "cell_type": "code",
   "execution_count": 81,
   "id": "dddccc9d-00f7-48fe-b6f5-4f8dc11fb121",
   "metadata": {},
   "outputs": [
    {
     "data": {
      "text/plain": [
       "state_postal_code\n",
       "33    81859\n",
       "24    51623\n",
       "36    43314\n",
       "26    39181\n",
       "48    37527\n",
       "Name: count, dtype: int64"
      ]
     },
     "execution_count": 81,
     "metadata": {},
     "output_type": "execute_result"
    }
   ],
   "source": [
    "df1.state_postal_code = pd.Categorical(df1.state_postal_code,df1.state_postal_code.unique()[1:]).codes \n",
    "df1.state_postal_code.value_counts().head()"
   ]
  },
  {
   "cell_type": "code",
   "execution_count": 83,
   "id": "d7bd8d8e-630a-4c3f-84e8-84fde53324a0",
   "metadata": {},
   "outputs": [
    {
     "data": {
      "text/plain": [
       "array(['Weston County', 'Bradley County', 'Calhoun County', ...,\n",
       "       'Ransom County', 'Rolette County', 'Sargent County'], dtype=object)"
      ]
     },
     "execution_count": 83,
     "metadata": {},
     "output_type": "execute_result"
    }
   ],
   "source": [
    "df1.county_name.unique()[1:]"
   ]
  },
  {
   "cell_type": "code",
   "execution_count": 85,
   "id": "9728cd65-4239-4407-bed2-ff7825aeeb99",
   "metadata": {},
   "outputs": [
    {
     "data": {
      "text/plain": [
       "county_name\n",
       "-1      46852\n",
       " 143     9560\n",
       " 64      7973\n",
       " 19      7652\n",
       " 29      7336\n",
       "Name: count, dtype: int64"
      ]
     },
     "execution_count": 85,
     "metadata": {},
     "output_type": "execute_result"
    }
   ],
   "source": [
    "df1.county_name = pd.Categorical(df1.county_name,df1.county_name.unique()[1:]).codes\n",
    "df1.county_name.value_counts().head()"
   ]
  },
  {
   "cell_type": "code",
   "execution_count": 87,
   "id": "5ac481bc-d62b-42d2-8f5e-35f6756ea411",
   "metadata": {},
   "outputs": [
    {
     "data": {
      "text/plain": [
       "array(['August'], dtype=object)"
      ]
     },
     "execution_count": 87,
     "metadata": {},
     "output_type": "execute_result"
    }
   ],
   "source": [
    "df2.month_of_date.unique()"
   ]
  },
  {
   "cell_type": "code",
   "execution_count": 89,
   "id": "16138ee1-2e62-46dc-9711-4d2094364a55",
   "metadata": {},
   "outputs": [
    {
     "data": {
      "text/plain": [
       "month_of_date\n",
       "0    7\n",
       "Name: count, dtype: int64"
      ]
     },
     "execution_count": 89,
     "metadata": {},
     "output_type": "execute_result"
    }
   ],
   "source": [
    "df2.month_of_date = pd.Categorical(df2.month_of_date,['August']).codes\n",
    "df2.month_of_date.value_counts().head()"
   ]
  },
  {
   "cell_type": "code",
   "execution_count": 91,
   "id": "95aad03c-c2fb-4392-92aa-0a766934bb65",
   "metadata": {},
   "outputs": [
    {
     "data": {
      "text/plain": [
       "array(['National'], dtype=object)"
      ]
     },
     "execution_count": 91,
     "metadata": {},
     "output_type": "execute_result"
    }
   ],
   "source": [
    "df2.level.unique()"
   ]
  },
  {
   "cell_type": "code",
   "execution_count": 93,
   "id": "6ce0edef-d74a-4576-8bf2-b0e8832eb7a2",
   "metadata": {},
   "outputs": [
    {
     "data": {
      "text/plain": [
       "level\n",
       "0    7\n",
       "Name: count, dtype: int64"
      ]
     },
     "execution_count": 93,
     "metadata": {},
     "output_type": "execute_result"
    }
   ],
   "source": [
    "df2.level = pd.Categorical(df2.level,['National']).codes\n",
    "df2.level.value_counts()"
   ]
  },
  {
   "cell_type": "code",
   "execution_count": 95,
   "id": "7813d894-7b46-4729-aabe-031bccdec2ef",
   "metadata": {},
   "outputs": [
    {
     "data": {
      "text/plain": [
       "array(['Week 32'], dtype=object)"
      ]
     },
     "execution_count": 95,
     "metadata": {},
     "output_type": "execute_result"
    }
   ],
   "source": [
    "df2.week_of_date.unique()"
   ]
  },
  {
   "cell_type": "code",
   "execution_count": 97,
   "id": "9d8a4bad-6263-41c5-bf9b-7fe86981f9bb",
   "metadata": {},
   "outputs": [
    {
     "data": {
      "text/plain": [
       "week_of_date\n",
       "0    7\n",
       "Name: count, dtype: int64"
      ]
     },
     "execution_count": 97,
     "metadata": {},
     "output_type": "execute_result"
    }
   ],
   "source": [
    "df2.week_of_date = pd.Categorical(df2.week_of_date,['Week 32']).codes\n",
    "df2.week_of_date.value_counts()"
   ]
  },
  {
   "cell_type": "code",
   "execution_count": 99,
   "id": "42164c8c-a0c6-463c-9285-a0a1dff2d4c4",
   "metadata": {},
   "outputs": [
    {
     "data": {
      "text/html": [
       "<div>\n",
       "<style scoped>\n",
       "    .dataframe tbody tr th:only-of-type {\n",
       "        vertical-align: middle;\n",
       "    }\n",
       "\n",
       "    .dataframe tbody tr th {\n",
       "        vertical-align: top;\n",
       "    }\n",
       "\n",
       "    .dataframe thead th {\n",
       "        text-align: right;\n",
       "    }\n",
       "</style>\n",
       "<table border=\"1\" class=\"dataframe\">\n",
       "  <thead>\n",
       "    <tr style=\"text-align: right;\">\n",
       "      <th></th>\n",
       "      <th>level</th>\n",
       "      <th>date</th>\n",
       "      <th>state_fips</th>\n",
       "      <th>state_postal_code</th>\n",
       "      <th>county_fips</th>\n",
       "      <th>county_name</th>\n",
       "      <th>population_staying_at_home</th>\n",
       "      <th>population_not_staying_at_home</th>\n",
       "      <th>number_of_trips</th>\n",
       "      <th>number_of_trips_&lt;1</th>\n",
       "      <th>...</th>\n",
       "      <th>number_of_trips_3-5</th>\n",
       "      <th>number_of_trips_5-10</th>\n",
       "      <th>number_of_trips_10-25</th>\n",
       "      <th>number_of_trips_25-50</th>\n",
       "      <th>number_of_trips_50-100</th>\n",
       "      <th>number_of_trips_100-250</th>\n",
       "      <th>number_of_trips_250-500</th>\n",
       "      <th>number_of_trips_&gt;=500</th>\n",
       "      <th>week</th>\n",
       "      <th>month</th>\n",
       "    </tr>\n",
       "  </thead>\n",
       "  <tbody>\n",
       "    <tr>\n",
       "      <th>0</th>\n",
       "      <td>2</td>\n",
       "      <td>2019-01-01</td>\n",
       "      <td>0.0</td>\n",
       "      <td>-1</td>\n",
       "      <td>0.0</td>\n",
       "      <td>-1</td>\n",
       "      <td>77433867.0</td>\n",
       "      <td>248733553.0</td>\n",
       "      <td>8.977844e+08</td>\n",
       "      <td>241667151.0</td>\n",
       "      <td>...</td>\n",
       "      <td>108078903.0</td>\n",
       "      <td>129670778.0</td>\n",
       "      <td>116904343.0</td>\n",
       "      <td>40432062.0</td>\n",
       "      <td>15686639.0</td>\n",
       "      <td>7525563.0</td>\n",
       "      <td>1806022.0</td>\n",
       "      <td>1728112.0</td>\n",
       "      <td>0</td>\n",
       "      <td>1</td>\n",
       "    </tr>\n",
       "    <tr>\n",
       "      <th>1</th>\n",
       "      <td>2</td>\n",
       "      <td>2019-01-02</td>\n",
       "      <td>0.0</td>\n",
       "      <td>-1</td>\n",
       "      <td>0.0</td>\n",
       "      <td>-1</td>\n",
       "      <td>61305201.0</td>\n",
       "      <td>264862219.0</td>\n",
       "      <td>1.139452e+09</td>\n",
       "      <td>291276735.0</td>\n",
       "      <td>...</td>\n",
       "      <td>138039296.0</td>\n",
       "      <td>171637514.0</td>\n",
       "      <td>167412698.0</td>\n",
       "      <td>56148976.0</td>\n",
       "      <td>17739183.0</td>\n",
       "      <td>7817044.0</td>\n",
       "      <td>1962301.0</td>\n",
       "      <td>1531219.0</td>\n",
       "      <td>0</td>\n",
       "      <td>1</td>\n",
       "    </tr>\n",
       "    <tr>\n",
       "      <th>2</th>\n",
       "      <td>2</td>\n",
       "      <td>2019-01-03</td>\n",
       "      <td>0.0</td>\n",
       "      <td>-1</td>\n",
       "      <td>0.0</td>\n",
       "      <td>-1</td>\n",
       "      <td>63050480.0</td>\n",
       "      <td>263116940.0</td>\n",
       "      <td>1.162753e+09</td>\n",
       "      <td>296375014.0</td>\n",
       "      <td>...</td>\n",
       "      <td>140771581.0</td>\n",
       "      <td>175775410.0</td>\n",
       "      <td>172027487.0</td>\n",
       "      <td>57632422.0</td>\n",
       "      <td>18366626.0</td>\n",
       "      <td>8124548.0</td>\n",
       "      <td>2038099.0</td>\n",
       "      <td>1567072.0</td>\n",
       "      <td>0</td>\n",
       "      <td>1</td>\n",
       "    </tr>\n",
       "    <tr>\n",
       "      <th>3</th>\n",
       "      <td>2</td>\n",
       "      <td>2019-01-04</td>\n",
       "      <td>0.0</td>\n",
       "      <td>-1</td>\n",
       "      <td>0.0</td>\n",
       "      <td>-1</td>\n",
       "      <td>61803652.0</td>\n",
       "      <td>264363768.0</td>\n",
       "      <td>1.181954e+09</td>\n",
       "      <td>293159631.0</td>\n",
       "      <td>...</td>\n",
       "      <td>145251819.0</td>\n",
       "      <td>181324645.0</td>\n",
       "      <td>176144493.0</td>\n",
       "      <td>58761592.0</td>\n",
       "      <td>19315785.0</td>\n",
       "      <td>8687318.0</td>\n",
       "      <td>2096065.0</td>\n",
       "      <td>1569185.0</td>\n",
       "      <td>0</td>\n",
       "      <td>1</td>\n",
       "    </tr>\n",
       "    <tr>\n",
       "      <th>4</th>\n",
       "      <td>2</td>\n",
       "      <td>2019-01-05</td>\n",
       "      <td>0.0</td>\n",
       "      <td>-1</td>\n",
       "      <td>0.0</td>\n",
       "      <td>-1</td>\n",
       "      <td>64389745.0</td>\n",
       "      <td>261777675.0</td>\n",
       "      <td>1.180477e+09</td>\n",
       "      <td>295459014.0</td>\n",
       "      <td>...</td>\n",
       "      <td>148540651.0</td>\n",
       "      <td>180941769.0</td>\n",
       "      <td>165239790.0</td>\n",
       "      <td>54842134.0</td>\n",
       "      <td>19363939.0</td>\n",
       "      <td>8490791.0</td>\n",
       "      <td>1991159.0</td>\n",
       "      <td>1438664.0</td>\n",
       "      <td>0</td>\n",
       "      <td>1</td>\n",
       "    </tr>\n",
       "  </tbody>\n",
       "</table>\n",
       "<p>5 rows × 21 columns</p>\n",
       "</div>"
      ],
      "text/plain": [
       "   level       date  state_fips  state_postal_code  county_fips  county_name  \\\n",
       "0      2 2019-01-01         0.0                 -1          0.0           -1   \n",
       "1      2 2019-01-02         0.0                 -1          0.0           -1   \n",
       "2      2 2019-01-03         0.0                 -1          0.0           -1   \n",
       "3      2 2019-01-04         0.0                 -1          0.0           -1   \n",
       "4      2 2019-01-05         0.0                 -1          0.0           -1   \n",
       "\n",
       "   population_staying_at_home  population_not_staying_at_home  \\\n",
       "0                  77433867.0                     248733553.0   \n",
       "1                  61305201.0                     264862219.0   \n",
       "2                  63050480.0                     263116940.0   \n",
       "3                  61803652.0                     264363768.0   \n",
       "4                  64389745.0                     261777675.0   \n",
       "\n",
       "   number_of_trips  number_of_trips_<1  ...  number_of_trips_3-5  \\\n",
       "0     8.977844e+08         241667151.0  ...          108078903.0   \n",
       "1     1.139452e+09         291276735.0  ...          138039296.0   \n",
       "2     1.162753e+09         296375014.0  ...          140771581.0   \n",
       "3     1.181954e+09         293159631.0  ...          145251819.0   \n",
       "4     1.180477e+09         295459014.0  ...          148540651.0   \n",
       "\n",
       "   number_of_trips_5-10  number_of_trips_10-25  number_of_trips_25-50  \\\n",
       "0           129670778.0            116904343.0             40432062.0   \n",
       "1           171637514.0            167412698.0             56148976.0   \n",
       "2           175775410.0            172027487.0             57632422.0   \n",
       "3           181324645.0            176144493.0             58761592.0   \n",
       "4           180941769.0            165239790.0             54842134.0   \n",
       "\n",
       "   number_of_trips_50-100  number_of_trips_100-250  number_of_trips_250-500  \\\n",
       "0              15686639.0                7525563.0                1806022.0   \n",
       "1              17739183.0                7817044.0                1962301.0   \n",
       "2              18366626.0                8124548.0                2038099.0   \n",
       "3              19315785.0                8687318.0                2096065.0   \n",
       "4              19363939.0                8490791.0                1991159.0   \n",
       "\n",
       "   number_of_trips_>=500  week  month  \n",
       "0              1728112.0     0      1  \n",
       "1              1531219.0     0      1  \n",
       "2              1567072.0     0      1  \n",
       "3              1569185.0     0      1  \n",
       "4              1438664.0     0      1  \n",
       "\n",
       "[5 rows x 21 columns]"
      ]
     },
     "execution_count": 99,
     "metadata": {},
     "output_type": "execute_result"
    }
   ],
   "source": [
    "df1.head()"
   ]
  },
  {
   "cell_type": "code",
   "execution_count": 101,
   "id": "afdce02a-e83d-40a6-94ba-9326bc643378",
   "metadata": {},
   "outputs": [
    {
     "data": {
      "text/plain": [
       "level                                       int8\n",
       "date                              datetime64[ns]\n",
       "state_fips                               float64\n",
       "state_postal_code                           int8\n",
       "county_fips                              float64\n",
       "county_name                                int16\n",
       "population_staying_at_home               float64\n",
       "population_not_staying_at_home           float64\n",
       "number_of_trips                          float64\n",
       "number_of_trips_<1                       float64\n",
       "number_of_trips_1-3                      float64\n",
       "number_of_trips_3-5                      float64\n",
       "number_of_trips_5-10                     float64\n",
       "number_of_trips_10-25                    float64\n",
       "number_of_trips_25-50                    float64\n",
       "number_of_trips_50-100                   float64\n",
       "number_of_trips_100-250                  float64\n",
       "number_of_trips_250-500                  float64\n",
       "number_of_trips_>=500                    float64\n",
       "week                                       int64\n",
       "month                                      int64\n",
       "dtype: object"
      ]
     },
     "execution_count": 101,
     "metadata": {},
     "output_type": "execute_result"
    }
   ],
   "source": [
    "df1.dtypes"
   ]
  },
  {
   "cell_type": "code",
   "execution_count": 103,
   "id": "022c0492-e5fc-4681-a688-a01a307f7ffa",
   "metadata": {},
   "outputs": [
    {
     "data": {
      "text/html": [
       "<div>\n",
       "<style scoped>\n",
       "    .dataframe tbody tr th:only-of-type {\n",
       "        vertical-align: middle;\n",
       "    }\n",
       "\n",
       "    .dataframe tbody tr th {\n",
       "        vertical-align: top;\n",
       "    }\n",
       "\n",
       "    .dataframe thead th {\n",
       "        text-align: right;\n",
       "    }\n",
       "</style>\n",
       "<table border=\"1\" class=\"dataframe\">\n",
       "  <thead>\n",
       "    <tr style=\"text-align: right;\">\n",
       "      <th></th>\n",
       "      <th>month_of_date</th>\n",
       "      <th>week_of_date</th>\n",
       "      <th>year_of_date</th>\n",
       "      <th>level</th>\n",
       "      <th>date</th>\n",
       "      <th>week_ending_date</th>\n",
       "      <th>trips_&lt;1_mile</th>\n",
       "      <th>people_not_staying_at_home</th>\n",
       "      <th>population_staying_at_home</th>\n",
       "      <th>trips</th>\n",
       "      <th>...</th>\n",
       "      <th>trips_10-25_miles</th>\n",
       "      <th>trips_100-250_miles</th>\n",
       "      <th>trips_100+_miles</th>\n",
       "      <th>trips_25-100_miles</th>\n",
       "      <th>trips_25-50_miles</th>\n",
       "      <th>trips_250-500_miles</th>\n",
       "      <th>trips_3-5_miles</th>\n",
       "      <th>trips_5-10_miles</th>\n",
       "      <th>trips_50-100_miles</th>\n",
       "      <th>trips_500+_miles</th>\n",
       "    </tr>\n",
       "  </thead>\n",
       "  <tbody>\n",
       "    <tr>\n",
       "      <th>0</th>\n",
       "      <td>0</td>\n",
       "      <td>0</td>\n",
       "      <td>2019</td>\n",
       "      <td>0</td>\n",
       "      <td>2019-08-04</td>\n",
       "      <td>2019-08-10</td>\n",
       "      <td>292959749</td>\n",
       "      <td>258404133</td>\n",
       "      <td>67763287</td>\n",
       "      <td>1322685497</td>\n",
       "      <td>...</td>\n",
       "      <td>200922270</td>\n",
       "      <td>8595827</td>\n",
       "      <td>15338786</td>\n",
       "      <td>79429125</td>\n",
       "      <td>59517188</td>\n",
       "      <td>2273613</td>\n",
       "      <td>171336406</td>\n",
       "      <td>216121882</td>\n",
       "      <td>19911937</td>\n",
       "      <td>4469346</td>\n",
       "    </tr>\n",
       "    <tr>\n",
       "      <th>1</th>\n",
       "      <td>0</td>\n",
       "      <td>0</td>\n",
       "      <td>2019</td>\n",
       "      <td>0</td>\n",
       "      <td>2019-08-05</td>\n",
       "      <td>2019-08-10</td>\n",
       "      <td>317133861</td>\n",
       "      <td>262199758</td>\n",
       "      <td>63967662</td>\n",
       "      <td>1412564488</td>\n",
       "      <td>...</td>\n",
       "      <td>228809869</td>\n",
       "      <td>6535920</td>\n",
       "      <td>12563068</td>\n",
       "      <td>86004297</td>\n",
       "      <td>68184743</td>\n",
       "      <td>1941260</td>\n",
       "      <td>178996059</td>\n",
       "      <td>231048425</td>\n",
       "      <td>17819554</td>\n",
       "      <td>4085888</td>\n",
       "    </tr>\n",
       "    <tr>\n",
       "      <th>2</th>\n",
       "      <td>0</td>\n",
       "      <td>0</td>\n",
       "      <td>2019</td>\n",
       "      <td>0</td>\n",
       "      <td>2019-08-06</td>\n",
       "      <td>2019-08-10</td>\n",
       "      <td>324443205</td>\n",
       "      <td>260096133</td>\n",
       "      <td>66071287</td>\n",
       "      <td>1437762102</td>\n",
       "      <td>...</td>\n",
       "      <td>235621127</td>\n",
       "      <td>5993704</td>\n",
       "      <td>11104823</td>\n",
       "      <td>87599579</td>\n",
       "      <td>70149166</td>\n",
       "      <td>1741994</td>\n",
       "      <td>179210645</td>\n",
       "      <td>233248732</td>\n",
       "      <td>17450413</td>\n",
       "      <td>3369125</td>\n",
       "    </tr>\n",
       "    <tr>\n",
       "      <th>3</th>\n",
       "      <td>0</td>\n",
       "      <td>0</td>\n",
       "      <td>2019</td>\n",
       "      <td>0</td>\n",
       "      <td>2019-08-07</td>\n",
       "      <td>2019-08-10</td>\n",
       "      <td>358483024</td>\n",
       "      <td>258878802</td>\n",
       "      <td>67288618</td>\n",
       "      <td>1543710309</td>\n",
       "      <td>...</td>\n",
       "      <td>249988663</td>\n",
       "      <td>5379881</td>\n",
       "      <td>8528574</td>\n",
       "      <td>92200386</td>\n",
       "      <td>74381367</td>\n",
       "      <td>1272248</td>\n",
       "      <td>189163336</td>\n",
       "      <td>243872277</td>\n",
       "      <td>17819019</td>\n",
       "      <td>1876445</td>\n",
       "    </tr>\n",
       "    <tr>\n",
       "      <th>4</th>\n",
       "      <td>0</td>\n",
       "      <td>0</td>\n",
       "      <td>2019</td>\n",
       "      <td>0</td>\n",
       "      <td>2019-08-08</td>\n",
       "      <td>2019-08-10</td>\n",
       "      <td>300765870</td>\n",
       "      <td>262410045</td>\n",
       "      <td>63757375</td>\n",
       "      <td>1382044815</td>\n",
       "      <td>...</td>\n",
       "      <td>226055368</td>\n",
       "      <td>6259735</td>\n",
       "      <td>12892348</td>\n",
       "      <td>84193587</td>\n",
       "      <td>66724543</td>\n",
       "      <td>1957888</td>\n",
       "      <td>179346163</td>\n",
       "      <td>230933709</td>\n",
       "      <td>17469044</td>\n",
       "      <td>4674725</td>\n",
       "    </tr>\n",
       "  </tbody>\n",
       "</table>\n",
       "<p>5 rows × 22 columns</p>\n",
       "</div>"
      ],
      "text/plain": [
       "   month_of_date  week_of_date  year_of_date  level       date  \\\n",
       "0              0             0          2019      0 2019-08-04   \n",
       "1              0             0          2019      0 2019-08-05   \n",
       "2              0             0          2019      0 2019-08-06   \n",
       "3              0             0          2019      0 2019-08-07   \n",
       "4              0             0          2019      0 2019-08-08   \n",
       "\n",
       "  week_ending_date  trips_<1_mile  people_not_staying_at_home  \\\n",
       "0       2019-08-10      292959749                   258404133   \n",
       "1       2019-08-10      317133861                   262199758   \n",
       "2       2019-08-10      324443205                   260096133   \n",
       "3       2019-08-10      358483024                   258878802   \n",
       "4       2019-08-10      300765870                   262410045   \n",
       "\n",
       "   population_staying_at_home       trips  ...  trips_10-25_miles  \\\n",
       "0                    67763287  1322685497  ...          200922270   \n",
       "1                    63967662  1412564488  ...          228809869   \n",
       "2                    66071287  1437762102  ...          235621127   \n",
       "3                    67288618  1543710309  ...          249988663   \n",
       "4                    63757375  1382044815  ...          226055368   \n",
       "\n",
       "   trips_100-250_miles  trips_100+_miles  trips_25-100_miles  \\\n",
       "0              8595827          15338786            79429125   \n",
       "1              6535920          12563068            86004297   \n",
       "2              5993704          11104823            87599579   \n",
       "3              5379881           8528574            92200386   \n",
       "4              6259735          12892348            84193587   \n",
       "\n",
       "   trips_25-50_miles  trips_250-500_miles  trips_3-5_miles  trips_5-10_miles  \\\n",
       "0           59517188              2273613        171336406         216121882   \n",
       "1           68184743              1941260        178996059         231048425   \n",
       "2           70149166              1741994        179210645         233248732   \n",
       "3           74381367              1272248        189163336         243872277   \n",
       "4           66724543              1957888        179346163         230933709   \n",
       "\n",
       "   trips_50-100_miles  trips_500+_miles  \n",
       "0            19911937           4469346  \n",
       "1            17819554           4085888  \n",
       "2            17450413           3369125  \n",
       "3            17819019           1876445  \n",
       "4            17469044           4674725  \n",
       "\n",
       "[5 rows x 22 columns]"
      ]
     },
     "execution_count": 103,
     "metadata": {},
     "output_type": "execute_result"
    }
   ],
   "source": [
    "df2.head()"
   ]
  },
  {
   "cell_type": "code",
   "execution_count": 105,
   "id": "3e96f531-2878-426c-bf28-bbf362175072",
   "metadata": {},
   "outputs": [
    {
     "data": {
      "text/plain": [
       "month_of_date                           int8\n",
       "week_of_date                            int8\n",
       "year_of_date                           int64\n",
       "level                                   int8\n",
       "date                          datetime64[ns]\n",
       "week_ending_date              datetime64[ns]\n",
       "trips_<1_mile                          int64\n",
       "people_not_staying_at_home             int64\n",
       "population_staying_at_home             int64\n",
       "trips                                  int64\n",
       "trips_1-25_miles                       int64\n",
       "trips_1-3_miles                        int64\n",
       "trips_10-25_miles                      int64\n",
       "trips_100-250_miles                    int64\n",
       "trips_100+_miles                       int64\n",
       "trips_25-100_miles                     int64\n",
       "trips_25-50_miles                      int64\n",
       "trips_250-500_miles                    int64\n",
       "trips_3-5_miles                        int64\n",
       "trips_5-10_miles                       int64\n",
       "trips_50-100_miles                     int64\n",
       "trips_500+_miles                       int64\n",
       "dtype: object"
      ]
     },
     "execution_count": 105,
     "metadata": {},
     "output_type": "execute_result"
    }
   ],
   "source": [
    "df2.dtypes"
   ]
  },
  {
   "cell_type": "markdown",
   "id": "000ebd24-c6f0-4ddb-aa26-e1015b2af417",
   "metadata": {},
   "source": [
    "**DATA CATEGORIZATION**"
   ]
  },
  {
   "cell_type": "code",
   "execution_count": 108,
   "id": "8f72bcd7-70d9-46eb-8759-1b36c58f02d0",
   "metadata": {},
   "outputs": [
    {
     "data": {
      "text/html": [
       "<div>\n",
       "<style scoped>\n",
       "    .dataframe tbody tr th:only-of-type {\n",
       "        vertical-align: middle;\n",
       "    }\n",
       "\n",
       "    .dataframe tbody tr th {\n",
       "        vertical-align: top;\n",
       "    }\n",
       "\n",
       "    .dataframe thead th {\n",
       "        text-align: right;\n",
       "    }\n",
       "</style>\n",
       "<table border=\"1\" class=\"dataframe\">\n",
       "  <thead>\n",
       "    <tr style=\"text-align: right;\">\n",
       "      <th></th>\n",
       "      <th>date</th>\n",
       "      <th>Short_distance_trips</th>\n",
       "      <th>Medium_distance_trips</th>\n",
       "      <th>Long_distance_trips</th>\n",
       "    </tr>\n",
       "  </thead>\n",
       "  <tbody>\n",
       "    <tr>\n",
       "      <th>0</th>\n",
       "      <td>2019-08-04</td>\n",
       "      <td>1026995316</td>\n",
       "      <td>476561340</td>\n",
       "      <td>15338786</td>\n",
       "    </tr>\n",
       "    <tr>\n",
       "      <th>1</th>\n",
       "      <td>2019-08-05</td>\n",
       "      <td>1085187254</td>\n",
       "      <td>528043037</td>\n",
       "      <td>12563068</td>\n",
       "    </tr>\n",
       "    <tr>\n",
       "      <th>2</th>\n",
       "      <td>2019-08-06</td>\n",
       "      <td>1103436573</td>\n",
       "      <td>539019025</td>\n",
       "      <td>11104823</td>\n",
       "    </tr>\n",
       "    <tr>\n",
       "      <th>3</th>\n",
       "      <td>2019-08-07</td>\n",
       "      <td>1192992686</td>\n",
       "      <td>568242307</td>\n",
       "      <td>8528574</td>\n",
       "    </tr>\n",
       "    <tr>\n",
       "      <th>4</th>\n",
       "      <td>2019-08-08</td>\n",
       "      <td>1058903512</td>\n",
       "      <td>523713620</td>\n",
       "      <td>12892348</td>\n",
       "    </tr>\n",
       "    <tr>\n",
       "      <th>5</th>\n",
       "      <td>2019-08-09</td>\n",
       "      <td>1148737678</td>\n",
       "      <td>562112248</td>\n",
       "      <td>12256537</td>\n",
       "    </tr>\n",
       "    <tr>\n",
       "      <th>6</th>\n",
       "      <td>2019-08-10</td>\n",
       "      <td>1156920199</td>\n",
       "      <td>538083168</td>\n",
       "      <td>12173176</td>\n",
       "    </tr>\n",
       "  </tbody>\n",
       "</table>\n",
       "</div>"
      ],
      "text/plain": [
       "        date  Short_distance_trips  Medium_distance_trips  Long_distance_trips\n",
       "0 2019-08-04            1026995316              476561340             15338786\n",
       "1 2019-08-05            1085187254              528043037             12563068\n",
       "2 2019-08-06            1103436573              539019025             11104823\n",
       "3 2019-08-07            1192992686              568242307              8528574\n",
       "4 2019-08-08            1058903512              523713620             12892348\n",
       "5 2019-08-09            1148737678              562112248             12256537\n",
       "6 2019-08-10            1156920199              538083168             12173176"
      ]
     },
     "execution_count": 108,
     "metadata": {},
     "output_type": "execute_result"
    }
   ],
   "source": [
    "# Categorizing trips based on distance\n",
    "categorized_by_distance = pd.DataFrame()\n",
    "categorized_by_distance['date'] = df2[['date']]\n",
    "categorized_by_distance['Short_distance_trips'] = df2[['trips_<1_mile', 'trips_1-3_miles', 'trips_3-5_miles', 'trips_5-10_miles']].sum(axis=1)\n",
    "categorized_by_distance['Medium_distance_trips'] = df2[['trips_10-25_miles', 'trips_25-50_miles', 'trips_5-10_miles']].sum(axis=1)\n",
    "categorized_by_distance['Long_distance_trips'] = df2[['trips_100-250_miles', 'trips_250-500_miles', 'trips_500+_miles']].sum(axis=1)\n",
    "categorized_by_distance"
   ]
  },
  {
   "cell_type": "code",
   "execution_count": 110,
   "id": "40ec8c0b-cd2f-4e87-a761-8d55cf59f8e7",
   "metadata": {},
   "outputs": [
    {
     "data": {
      "image/png": "[encoded data removed]",
      "text/plain": [
       "<Figure size 640x480 with 1 Axes>"
      ]
     },
     "metadata": {},
     "output_type": "display_data"
    }
   ],
   "source": [
    "plt.plot(categorized_by_distance['date'], categorized_by_distance['Short_distance_trips'], label='Short_distance_trips')\n",
    "plt.plot(categorized_by_distance['date'], categorized_by_distance['Medium_distance_trips'], label='Medium_distance_trips')\n",
    "plt.plot(categorized_by_distance['date'], categorized_by_distance['Long_distance_trips'], label='Long_distance_trips')\n",
    "plt.xlabel('Date')\n",
    "plt.ylabel('Number of Trips')\n",
    "plt.title('Mobility Trends Over Time')\n",
    "plt.xticks(rotation=45)\n",
    "plt.legend(title='Trip Categories') \n",
    "plt.show() "
   ]
  },
  {
   "cell_type": "code",
   "execution_count": 112,
   "id": "a06d358e-920b-4de4-bfae-1dfa899145b6",
   "metadata": {},
   "outputs": [
    {
     "data": {
      "text/html": [
       "<div>\n",
       "<style scoped>\n",
       "    .dataframe tbody tr th:only-of-type {\n",
       "        vertical-align: middle;\n",
       "    }\n",
       "\n",
       "    .dataframe tbody tr th {\n",
       "        vertical-align: top;\n",
       "    }\n",
       "\n",
       "    .dataframe thead th {\n",
       "        text-align: right;\n",
       "    }\n",
       "</style>\n",
       "<table border=\"1\" class=\"dataframe\">\n",
       "  <thead>\n",
       "    <tr style=\"text-align: right;\">\n",
       "      <th></th>\n",
       "      <th>date</th>\n",
       "      <th>People_Staying_at_Home</th>\n",
       "      <th>People_Traveling</th>\n",
       "    </tr>\n",
       "  </thead>\n",
       "  <tbody>\n",
       "    <tr>\n",
       "      <th>0</th>\n",
       "      <td>2019-08-04</td>\n",
       "      <td>67763287</td>\n",
       "      <td>258404133</td>\n",
       "    </tr>\n",
       "    <tr>\n",
       "      <th>1</th>\n",
       "      <td>2019-08-05</td>\n",
       "      <td>63967662</td>\n",
       "      <td>262199758</td>\n",
       "    </tr>\n",
       "    <tr>\n",
       "      <th>2</th>\n",
       "      <td>2019-08-06</td>\n",
       "      <td>66071287</td>\n",
       "      <td>260096133</td>\n",
       "    </tr>\n",
       "    <tr>\n",
       "      <th>3</th>\n",
       "      <td>2019-08-07</td>\n",
       "      <td>67288618</td>\n",
       "      <td>258878802</td>\n",
       "    </tr>\n",
       "    <tr>\n",
       "      <th>4</th>\n",
       "      <td>2019-08-08</td>\n",
       "      <td>63757375</td>\n",
       "      <td>262410045</td>\n",
       "    </tr>\n",
       "    <tr>\n",
       "      <th>5</th>\n",
       "      <td>2019-08-09</td>\n",
       "      <td>54066003</td>\n",
       "      <td>272101417</td>\n",
       "    </tr>\n",
       "    <tr>\n",
       "      <th>6</th>\n",
       "      <td>2019-08-10</td>\n",
       "      <td>58529356</td>\n",
       "      <td>267638064</td>\n",
       "    </tr>\n",
       "  </tbody>\n",
       "</table>\n",
       "</div>"
      ],
      "text/plain": [
       "        date  People_Staying_at_Home  People_Traveling\n",
       "0 2019-08-04                67763287         258404133\n",
       "1 2019-08-05                63967662         262199758\n",
       "2 2019-08-06                66071287         260096133\n",
       "3 2019-08-07                67288618         258878802\n",
       "4 2019-08-08                63757375         262410045\n",
       "5 2019-08-09                54066003         272101417\n",
       "6 2019-08-10                58529356         267638064"
      ]
     },
     "execution_count": 112,
     "metadata": {},
     "output_type": "execute_result"
    }
   ],
   "source": [
    "# Categorizing based on population \n",
    "categorized_by_population = pd.DataFrame()\n",
    "categorized_by_population['date'] = df2[['date']]\n",
    "categorized_by_population['People_Staying_at_Home'] = df2['population_staying_at_home']\n",
    "categorized_by_population['People_Traveling'] = df2['people_not_staying_at_home']\n",
    "categorized_by_population"
   ]
  },
  {
   "cell_type": "code",
   "execution_count": 114,
   "id": "b2ec7aec-db67-4acd-9231-50d26c706ae3",
   "metadata": {},
   "outputs": [
    {
     "data": {
      "image/png": "[encoded data removed]",
      "text/plain": [
       "<Figure size 640x480 with 1 Axes>"
      ]
     },
     "metadata": {},
     "output_type": "display_data"
    }
   ],
   "source": [
    "# Plotting \n",
    "plt.plot(categorized_by_population['date'], categorized_by_population['People_Staying_at_Home'], label='People Staying at Home')\n",
    "plt.plot(categorized_by_population['date'], categorized_by_population['People_Traveling'], label='People Traveling')\n",
    "plt.xlabel('Date')\n",
    "plt.ylabel('Number of People')\n",
    "plt.title('Population Behavior Over Time')\n",
    "plt.xticks(rotation=45)\n",
    "plt.legend() \n",
    "plt.show()"
   ]
  },
  {
   "cell_type": "markdown",
   "id": "7333c10c-92c2-4763-8d68-fb0c04330d74",
   "metadata": {},
   "source": [
    "**DATA ANALYSIS**"
   ]
  },
  {
   "cell_type": "markdown",
   "id": "c7711eb4-80ef-4dc6-b7c9-16e544753673",
   "metadata": {},
   "source": [
    "**#QUESTION 1.a**"
   ]
  },
  {
   "cell_type": "code",
   "execution_count": 120,
   "id": "a274cdaf-b889-4372-9a5d-620b014050c7",
   "metadata": {},
   "outputs": [
    {
     "name": "stdout",
     "output_type": "stream",
     "text": [
      "Total people staying at home: 151503311490.0\n"
     ]
    }
   ],
   "source": [
    "total_staying_home = df1[\"population_staying_at_home\"].sum()\n",
    "print(\"Total people staying at home:\", total_staying_home)"
   ]
  },
  {
   "cell_type": "code",
   "execution_count": 122,
   "id": "dead585d-290d-41f4-a48e-d6af8d8a0029",
   "metadata": {},
   "outputs": [
    {
     "name": "stdout",
     "output_type": "stream",
     "text": [
      "Total trips by distance category:\n",
      " number_of_trips_<1         6.338851e+11\n",
      "number_of_trips_1-3        6.412559e+11\n",
      "number_of_trips_3-5        3.149226e+11\n",
      "number_of_trips_5-10       3.980011e+11\n",
      "number_of_trips_10-25      3.893308e+11\n",
      "number_of_trips_25-50      1.251168e+11\n",
      "number_of_trips_50-100     4.023105e+10\n",
      "number_of_trips_100-250    1.638828e+10\n",
      "number_of_trips_250-500    3.679793e+09\n",
      "number_of_trips_>=500      3.254191e+09\n",
      "dtype: float64\n"
     ]
    }
   ],
   "source": [
    "total_trips = df1.iloc[:, 9:19].sum() # getting all rows as trip columns\n",
    "print(\"Total trips by distance category:\\n\", total_trips)"
   ]
  },
  {
   "cell_type": "code",
   "execution_count": 124,
   "id": "d68bb9c7-b474-4aca-8365-fa5f4f243fbb",
   "metadata": {},
   "outputs": [
    {
     "name": "stdout",
     "output_type": "stream",
     "text": [
      "Total unique weeks: [ 0  1  2  3  4  5  6  7  8  9 10 11 12 13 14 15 16 17 18 19 20 21 22 23\n",
      " 24 25 26 27 28 29 30 31 32 33 34 35 36 37 38 39 40 41 42 43 44 45 46 47\n",
      " 48 49 50 51 52]\n",
      "Average number of people staying home per week:\n",
      " week\n",
      "0     1.199202e+05\n",
      "1     1.504254e+05\n",
      "2     1.488433e+05\n",
      "3     1.461858e+05\n",
      "4     1.460956e+05\n",
      "5     1.444647e+05\n",
      "6     1.430626e+05\n",
      "7     1.463825e+05\n",
      "8     1.385760e+05\n",
      "9     1.384294e+05\n",
      "10    1.388649e+05\n",
      "11    1.531764e+05\n",
      "12    1.555268e+05\n",
      "13    1.574559e+05\n",
      "14    1.575399e+05\n",
      "15    1.586471e+05\n",
      "16    1.540430e+05\n",
      "17    1.537818e+05\n",
      "18    1.536102e+05\n",
      "19    1.480467e+05\n",
      "20    1.413530e+05\n",
      "21    1.490569e+05\n",
      "22    1.475433e+05\n",
      "23    8.536271e+04\n",
      "24    8.624407e+04\n",
      "25    1.042980e+05\n",
      "26    1.093380e+05\n",
      "27    1.070431e+05\n",
      "28    1.073070e+05\n",
      "29    1.113248e+05\n",
      "30    1.100773e+05\n",
      "31    1.081441e+05\n",
      "32    1.026508e+05\n",
      "33    1.022363e+05\n",
      "34    1.060031e+05\n",
      "35    1.103829e+05\n",
      "36    1.107614e+05\n",
      "37    1.104032e+05\n",
      "38    1.098623e+05\n",
      "39    1.110079e+05\n",
      "40    1.118503e+05\n",
      "41    1.111224e+05\n",
      "42    1.117643e+05\n",
      "43    1.346374e+05\n",
      "44    2.425559e+06\n",
      "45    2.964568e+06\n",
      "46    3.088759e+06\n",
      "47    3.115323e+06\n",
      "48    3.009276e+06\n",
      "49    3.042222e+06\n",
      "50    3.075785e+06\n",
      "51    3.264755e+06\n",
      "52    3.259163e+06\n",
      "Name: population_staying_at_home, dtype: float64\n"
     ]
    }
   ],
   "source": [
    "# Count unique weeks\n",
    "num_weeks = df1['week'].unique()\n",
    "print(\"Total unique weeks:\", num_weeks)\n",
    "\n",
    "# Group by 'week' and find the average number of people staying at home\n",
    "avg_people_staying_home = df1.groupby('week')['population_staying_at_home'].mean()\n",
    "\n",
    "print(\"Average number of people staying home per week:\\n\", avg_people_staying_home)"
   ]
  },
  {
   "cell_type": "code",
   "execution_count": 126,
   "id": "9e7d53b3-cce4-4e6c-8cc4-3639a8805dda",
   "metadata": {},
   "outputs": [
    {
     "data": {
      "image/png": "[encoded data removed]",
      "text/plain": [
       "<Figure size 1200x600 with 1 Axes>"
      ]
     },
     "metadata": {},
     "output_type": "display_data"
    }
   ],
   "source": [
    "plt.figure(figsize=(12, 6))\n",
    "avg_people_staying_home.plot(kind=\"bar\", stacked=True, colormap=\"viridis\", figsize=(12, 6))\n",
    "plt.xlabel(\"Week\")\n",
    "plt.ylabel(\"Staying Home\")\n",
    "plt.title(\"Average People that staying home\") \n",
    "plt.show()"
   ]
  },
  {
   "cell_type": "code",
   "execution_count": 128,
   "id": "a007361b-f9d1-4739-8db2-437b8ccf039c",
   "metadata": {},
   "outputs": [
    {
     "name": "stdout",
     "output_type": "stream",
     "text": [
      "Average travel distances per week:\n",
      "       number_of_trips_10-25  number_of_trips_25-50  number_of_trips_50-100  \\\n",
      "week                                                                         \n",
      "0              2.580315e+05           8.602491e+04            29798.574684   \n",
      "1              3.390968e+05           1.116959e+05            36217.197826   \n",
      "2              3.419069e+05           1.123393e+05            36350.779953   \n",
      "3              3.476412e+05           1.142916e+05            37716.223989   \n",
      "4              3.439215e+05           1.125881e+05            36599.655592   \n",
      "5              3.494641e+05           1.152327e+05            38206.542623   \n",
      "6              3.588366e+05           1.188568e+05            40224.950748   \n",
      "7              3.557185e+05           1.178702e+05            40241.878888   \n",
      "8              3.724006e+05           1.218320e+05            40038.692194   \n",
      "9              3.764328e+05           1.250544e+05            42383.983930   \n",
      "10             3.870831e+05           1.282231e+05            44073.421554   \n",
      "11             3.895250e+05           1.273050e+05            42287.303257   \n",
      "12             3.875972e+05           1.256343e+05            40975.335701   \n",
      "13             3.826568e+05           1.242078e+05            40871.019925   \n",
      "14             3.910915e+05           1.259541e+05            40486.783678   \n",
      "15             3.971260e+05           1.258709e+05            39744.046305   \n",
      "16             3.977097e+05           1.273663e+05            40653.883652   \n",
      "17             4.002697e+05           1.280896e+05            40608.110587   \n",
      "18             3.951010e+05           1.230378e+05            38251.549640   \n",
      "19             3.991014e+05           1.245290e+05            39259.299576   \n",
      "20             4.099992e+05           1.283786e+05            40954.894482   \n",
      "21             3.979382e+05           1.248508e+05            40769.288443   \n",
      "22             4.079702e+05           1.289589e+05            41236.977432   \n",
      "23             2.348502e+05           7.474863e+04            24175.723425   \n",
      "24             2.319720e+05           7.439015e+04            24272.048358   \n",
      "25             2.906586e+05           9.373938e+04            29716.129049   \n",
      "26             2.892182e+05           9.369607e+04            30188.096030   \n",
      "27             2.950416e+05           9.426362e+04            29869.016900   \n",
      "28             2.990290e+05           9.463653e+04            29272.789543   \n",
      "29             2.993263e+05           9.453435e+04            29300.899965   \n",
      "30             3.055218e+05           9.675711e+04            30488.381128   \n",
      "31             3.020103e+05           9.556892e+04            29551.241968   \n",
      "32             3.067745e+05           9.829407e+04            30790.841739   \n",
      "33             3.073069e+05           9.866630e+04            31570.234662   \n",
      "34             2.991592e+05           9.505060e+04            29396.078470   \n",
      "35             3.024441e+05           9.672403e+04            30905.226829   \n",
      "36             3.062909e+05           9.713388e+04            30188.433325   \n",
      "37             3.150603e+05           9.988541e+04            30334.150955   \n",
      "38             3.099486e+05           9.712141e+04            28238.156236   \n",
      "39             3.059634e+05           9.624270e+04            28466.585556   \n",
      "40             3.017108e+05           9.519277e+04            28611.267802   \n",
      "41             2.945261e+05           9.373375e+04            29091.156940   \n",
      "42             2.868257e+05           9.117414e+04            28196.415192   \n",
      "43             3.349046e+05           1.050996e+05            31918.921509   \n",
      "44             5.581327e+06           1.788046e+06           567399.492274   \n",
      "45             6.685995e+06           2.145022e+06           678257.403694   \n",
      "46             6.869776e+06           2.199368e+06           692152.917582   \n",
      "47             6.473689e+06           2.112379e+06           750120.030178   \n",
      "48             7.025538e+06           2.268594e+06           742082.486264   \n",
      "49             6.986865e+06           2.275069e+06           739379.837912   \n",
      "50             6.986995e+06           2.272085e+06           749392.500000   \n",
      "51             6.451797e+06           2.163179e+06           799301.027473   \n",
      "52             6.294874e+06           1.944023e+06           641443.562500   \n",
      "\n",
      "      number_of_trips_100-250  number_of_trips_250-500  number_of_trips_>=500  \n",
      "week                                                                           \n",
      "0                13605.733018              3098.926790            2014.302236  \n",
      "1                16659.605692              3737.280949            2216.642771  \n",
      "2                15326.176471              3410.627263            2258.616521  \n",
      "3                16011.237590              3553.073118            2357.118124  \n",
      "4                15537.171706              3493.527159            2385.088885  \n",
      "5                16840.867799              3973.357186            2811.323313  \n",
      "6                18107.192943              4440.503848            3413.187019  \n",
      "7                18198.334835              4359.358572            3245.175301  \n",
      "8                16677.249935              3748.411678            2757.173135  \n",
      "9                18278.234601              4009.335788            2706.225678  \n",
      "10               19988.541757              4512.078402            3128.263450  \n",
      "11               18406.535303              4006.602400            2684.518669  \n",
      "12               17529.006281              3855.956684            2559.984796  \n",
      "13               17761.083254              3938.033224            2640.246167  \n",
      "14               16712.711730              3538.643334            2394.449623  \n",
      "15               16063.360781              3430.073898            2381.753227  \n",
      "16               16494.475786              3498.652213            2368.934549  \n",
      "17               16285.082821              3404.155419            2281.942563  \n",
      "18               14936.762107              3251.444728            3252.733691  \n",
      "19               15582.077450              3556.015161            4006.605129  \n",
      "20               16550.100840              3649.254353            3934.634584  \n",
      "21               16977.523997              3794.074157            3807.304644  \n",
      "22               17052.109937              3768.594733            3634.797106  \n",
      "23                9977.244210              2141.033141            1967.470364  \n",
      "24                9996.978083              2100.835714            1745.323292  \n",
      "25               12231.405515              2866.028875            3101.753930  \n",
      "26               12750.541854              3039.722164            3297.809832  \n",
      "27               12657.203195              3037.501496            3542.415720  \n",
      "28               11853.601532              2834.232594            3527.134143  \n",
      "29               11862.170760              2815.264149            3652.446836  \n",
      "30               12744.389622              3067.628070            3926.517252  \n",
      "31               12066.513775              2872.019232            3671.821715  \n",
      "32               12733.105096              3131.883769            4244.437109  \n",
      "33               13595.694349              3661.829460            5992.618784  \n",
      "34               12079.250990              3070.029663            4542.895388  \n",
      "35               13004.302218              3123.817358            3846.357979  \n",
      "36               12523.128510              3039.686779            3753.062054  \n",
      "37               11922.142637              2852.416997            3301.775372  \n",
      "38               10523.519320              2340.357847            2360.366561  \n",
      "39               10013.347681              2066.639468            1831.594930  \n",
      "40                9628.648799              1847.548411            1353.352038  \n",
      "41               10386.324487              2088.619180            1600.651483  \n",
      "42                9810.481340              1937.576666            1333.351157  \n",
      "43               11002.901995              2133.816999            1494.698070  \n",
      "44              200139.735099             39140.677704           25020.123620  \n",
      "45              235656.889182             45265.456464           29695.271768  \n",
      "46              252879.071429             55779.021978           36126.711538  \n",
      "47              276844.395062             59358.554184           36638.175583  \n",
      "48              253358.854396             57375.458791           38021.516484  \n",
      "49              243164.486264             54402.381868           39224.483516  \n",
      "50              257976.491758             57834.038462           37269.118132  \n",
      "51              304850.928571             68479.626374           44212.239011  \n",
      "52              308921.115385             65108.379808           33853.754808  \n"
     ]
    }
   ],
   "source": [
    "# Group by 'week' and get the average trips in each distance category\n",
    "avg_travel_distances = df1.groupby('week')[['number_of_trips_10-25', 'number_of_trips_25-50', 'number_of_trips_50-100',\n",
    "                                        'number_of_trips_100-250', 'number_of_trips_250-500', 'number_of_trips_>=500']].mean()\n",
    "\n",
    "print(\"Average travel distances per week:\\n\", avg_travel_distances)\n"
   ]
  },
  {
   "cell_type": "code",
   "execution_count": 130,
   "id": "7a7b1636-f4a0-43b9-8ac2-e95d9010b58d",
   "metadata": {},
   "outputs": [
    {
     "data": {
      "text/plain": [
       "<Figure size 1200x600 with 0 Axes>"
      ]
     },
     "metadata": {},
     "output_type": "display_data"
    },
    {
     "data": {
      "image/png": "[encoded data removed]",
      "text/plain": [
       "<Figure size 1200x600 with 1 Axes>"
      ]
     },
     "metadata": {},
     "output_type": "display_data"
    }
   ],
   "source": [
    "plt.figure(figsize=(12, 6))\n",
    "avg_travel_distances.plot(kind=\"bar\", stacked=True, colormap=\"viridis\", figsize=(12, 6))\n",
    "plt.xlabel(\"Week\")\n",
    "plt.ylabel(\"Average Trips\")\n",
    "plt.title(\"How Far People Travel When They Don't Stay Home\")\n",
    "plt.legend(title=\"Distance Categories\")\n",
    "plt.show()"
   ]
  },
  {
   "cell_type": "markdown",
   "id": "1bcb50ce-9057-41f2-8131-121e36c52ca8",
   "metadata": {},
   "source": [
    "**##QUESTION 1.b**"
   ]
  },
  {
   "cell_type": "code",
   "execution_count": 133,
   "id": "51fc81ff-02fd-4398-9ba7-146d5e0929e4",
   "metadata": {},
   "outputs": [
    {
     "name": "stdout",
     "output_type": "stream",
     "text": [
      "Dates where >10M people took 10-25 trips:\n",
      "              date  number_of_trips_10-25\n",
      "0      2019-01-01            116904343.0\n",
      "1      2019-01-02            167412698.0\n",
      "2      2019-01-03            172027487.0\n",
      "3      2019-01-04            176144493.0\n",
      "4      2019-01-05            165239790.0\n",
      "...           ...                    ...\n",
      "157189 2021-06-15            200549282.0\n",
      "157190 2021-06-16            199082591.0\n",
      "157191 2021-06-17            198280332.0\n",
      "157192 2021-06-18            202609024.0\n",
      "157193 2021-06-19            178997864.0\n",
      "\n",
      "[3749 rows x 2 columns]\n"
     ]
    }
   ],
   "source": [
    "# Finding Dates for >10,000,000 People Taking 10-25 Trips\n",
    "df_10_25 = df1[df1['number_of_trips_10-25'] > 10_000_000][['date', 'number_of_trips_10-25']]\n",
    "print(\"Dates where >10M people took 10-25 trips:\\n\", df_10_25)"
   ]
  },
  {
   "cell_type": "code",
   "execution_count": 135,
   "id": "b90e947f-c12e-4673-87d1-c00d0e3c5937",
   "metadata": {},
   "outputs": [],
   "source": [
    "# Finding Dates for >10,000,000 People Taking 50-100 Trips"
   ]
  },
  {
   "cell_type": "code",
   "execution_count": 137,
   "id": "af32b565-b7a5-4cd3-ac3d-f41af9f77e8e",
   "metadata": {},
   "outputs": [
    {
     "name": "stdout",
     "output_type": "stream",
     "text": [
      "Dates where >10M people took 50-100 trips:\n",
      "              date  number_of_trips_50-100\n",
      "0      2019-01-01              15686639.0\n",
      "1      2019-01-02              17739183.0\n",
      "2      2019-01-03              18366626.0\n",
      "3      2019-01-04              19315785.0\n",
      "4      2019-01-05              19363939.0\n",
      "...           ...                     ...\n",
      "157189 2021-06-15              19181256.0\n",
      "157190 2021-06-16              19247409.0\n",
      "157191 2021-06-17              19277452.0\n",
      "157192 2021-06-18              22229709.0\n",
      "157193 2021-06-19              24428623.0\n",
      "\n",
      "[900 rows x 2 columns]\n"
     ]
    }
   ],
   "source": [
    "df_50_100 = df1[df1['number_of_trips_50-100'] > 10_000_000][['date', 'number_of_trips_50-100']] \n",
    "print(\"Dates where >10M people took 50-100 trips:\\n\", df_50_100)"
   ]
  },
  {
   "cell_type": "code",
   "execution_count": 139,
   "id": "2f67926a-ff93-499f-bd42-6d4e25de55e3",
   "metadata": {},
   "outputs": [
    {
     "data": {
      "image/png": "[encoded data removed]",
      "text/plain": [
       "<Figure size 1200x600 with 1 Axes>"
      ]
     },
     "metadata": {},
     "output_type": "display_data"
    }
   ],
   "source": [
    "plt.figure(figsize=(12, 6))\n",
    "sns.scatterplot(x=df_10_25['date'], y=df_10_25['number_of_trips_10-25'], color=\"blue\", label=\"10-25 Trips\")\n",
    "plt.xticks(rotation=45)\n",
    "plt.xlabel(\"Date\")\n",
    "plt.ylabel(\"Number of Trips\")\n",
    "plt.title(\"Dates where >10M People Took 10-25 Trips\")\n",
    "plt.legend()\n",
    "plt.show()\n"
   ]
  },
  {
   "cell_type": "code",
   "execution_count": 141,
   "id": "f22bbc46-6a8b-4e53-8de5-b4703423d233",
   "metadata": {},
   "outputs": [
    {
     "data": {
      "image/png": "[encoded data removed]",
      "text/plain": [
       "<Figure size 1200x600 with 1 Axes>"
      ]
     },
     "metadata": {},
     "output_type": "display_data"
    }
   ],
   "source": [
    "plt.figure(figsize=(12, 6))\n",
    "sns.scatterplot(x=df_50_100['date'], y=df_50_100['number_of_trips_50-100'], color=\"red\", label=\"50-100 Trips\")\n",
    "plt.xticks(rotation=45)\n",
    "plt.xlabel(\"Date\")\n",
    "plt.ylabel(\"Number of Trips\")\n",
    "plt.title(\"Dates where >10M People Took 50-100 Trips\")\n",
    "plt.legend()\n",
    "plt.show()\n"
   ]
  },
  {
   "cell_type": "markdown",
   "id": "c3942436-bea3-422b-b46c-397bb7b9a473",
   "metadata": {},
   "source": [
    "**###QUESTION 1.c**"
   ]
  },
  {
   "cell_type": "code",
   "execution_count": 144,
   "id": "21a0af59-b1b1-4391-b673-83c79fd8c3e4",
   "metadata": {},
   "outputs": [],
   "source": [
    "# Loading time difference in sequential and parallel processing"
   ]
  },
  {
   "cell_type": "code",
   "execution_count": 146,
   "id": "4c9b3864-93ab-403a-b86e-a5302ed461e2",
   "metadata": {},
   "outputs": [
    {
     "name": "stdout",
     "output_type": "stream",
     "text": [
      "Pandas Loading Time: 9.187842607498169 seconds\n"
     ]
    }
   ],
   "source": [
    "start_time = time.time() \n",
    "df_pandass = pd.read_csv('Trips_by_Distance.csv') \n",
    "end_time = time.time()\n",
    "s_diff = end_time - start_time\n",
    "print(f\"Pandas Loading Time: {s_diff} seconds\")"
   ]
  },
  {
   "cell_type": "code",
   "execution_count": 148,
   "id": "ba01a63a-7515-4683-93a7-cfc2459f5bb5",
   "metadata": {},
   "outputs": [
    {
     "name": "stdout",
     "output_type": "stream",
     "text": [
      "Dask Loading Time: 0.3184065818786621 seconds\n"
     ]
    }
   ],
   "source": [
    "start_time = time.time() \n",
    "df_daskk = dd.read_csv(\"Trips_by_Distance.csv\", assume_missing=True) \n",
    "end_time = time.time()\n",
    "p_diff = end_time - start_time\n",
    "print(f\"Dask Loading Time: {p_diff} seconds\")"
   ]
  },
  {
   "cell_type": "code",
   "execution_count": 150,
   "id": "857af3ed-6236-4b58-b5cf-a06c92596031",
   "metadata": {},
   "outputs": [
    {
     "data": {
      "image/png": "[encoded data removed]",
      "text/plain": [
       "<Figure size 500x300 with 1 Axes>"
      ]
     },
     "metadata": {},
     "output_type": "display_data"
    }
   ],
   "source": [
    "#Compare Execution Time\n",
    "plt.figure(figsize=(5, 3))\n",
    "plt.bar(['Pandas','Dask'],[s_diff,p_diff], color=['peachpuff', 'plum'])\n",
    "plt.xlabel(\"Number of Processors\")\n",
    "plt.ylabel(\"Execution Time (seconds)\")\n",
    "plt.title(\"Sequential Processing Vs Parallel Processing\")\n",
    "# plt.xticks(['Pandas','Dask'])\n",
    "plt.show()\n"
   ]
  },
  {
   "cell_type": "code",
   "execution_count": 152,
   "id": "cdb89b9f-36d1-456d-ada4-5cb03514e81a",
   "metadata": {},
   "outputs": [
    {
     "name": "stdout",
     "output_type": "stream",
     "text": [
      "Time taken (Serial Processing): 0.5636496543884277 seconds\n"
     ]
    }
   ],
   "source": [
    "# Sequential Processing (Pandas)\n",
    "start = time.time()\n",
    "total_trips_serial = df1.iloc[: , 9:19].sum()\n",
    "end = time.time()\n",
    "print(\"Time taken (Serial Processing):\", end - start, \"seconds\")"
   ]
  },
  {
   "cell_type": "code",
   "execution_count": 154,
   "id": "e2e29295-a315-4b1b-b4c4-fcf5e7225d99",
   "metadata": {},
   "outputs": [
    {
     "name": "stdout",
     "output_type": "stream",
     "text": [
      "Time taken (Parallel Processing, 10 CPUs): 0.47965550422668457 seconds\n"
     ]
    }
   ],
   "source": [
    "# Parallel Processing (Dask, 10 processors)\n",
    "# Convert Pandas dataframe to Dask dataframe\n",
    "ddf10 = dd.from_pandas(df1, npartitions=10)  # Split into 10 parallel partitions\n",
    "ddf10\n",
    "\n",
    "\n",
    "start = time.time()\n",
    "total_trips_parallel = ddf10.iloc[:, 9:19].sum().compute()\n",
    "end = time.time()\n",
    "print(\"Time taken (Parallel Processing, 10 CPUs):\", end - start, \"seconds\")"
   ]
  },
  {
   "cell_type": "code",
   "execution_count": 156,
   "id": "61082bb2-506e-4f24-ba37-21974e78ee9f",
   "metadata": {},
   "outputs": [
    {
     "name": "stdout",
     "output_type": "stream",
     "text": [
      "Time taken (Parallel Processing, 20 CPUs): 0.26828765869140625 seconds\n"
     ]
    }
   ],
   "source": [
    "# Parallel Processing (Dask, 20 processors)\n",
    " \n",
    "ddf20 = dd.from_pandas(df1, npartitions=20)  # Split into 20 parallel partitions\n",
    "ddf20\n",
    "\n",
    "start = time.time()\n",
    "total_trips_parallel_20 = ddf20.iloc[:, 9:19].sum().compute()\n",
    "end = time.time()\n",
    "print(\"Time taken (Parallel Processing, 20 CPUs):\", end - start, \"seconds\")"
   ]
  },
  {
   "cell_type": "code",
   "execution_count": null,
   "id": "4efa4864-26f6-4349-949c-c72125fe9c93",
   "metadata": {},
   "outputs": [],
   "source": [
    "# Load 2nd dataset with Dask\n",
    "df_dask = dd.read_csv(\"Trips_by_Distance.csv\", assume_missing=True)\n",
    "\n",
    "\n",
    "# Define number of processors\n",
    "n_processors = [10, 20]\n",
    "n_processors_time = {}  # Store execution times\n",
    "for processor in n_processors:\n",
    "    # Start Dask Client with specific number of workers\n",
    "    client = Client(n_workers=processor)\n",
    "\n",
    "    start_time = time.time()\n",
    "\n",
    "    # **Filter Data** (10-25 trips > 10M)\n",
    "    df_10_25 = df_dask[df_dask['Number of Trips 10-25'] > 10_000_000][['Date', 'Number of Trips 10-25']].compute()\n",
    "\n",
    "    # **Filter Data** (50-100 trips > 10M)\n",
    "    df_50_100 = df_dask[df_dask['Number of Trips 50-100'] > 10_000_000][['Date', 'Number of Trips 50-100']].compute()\n",
    "\n",
    "    # Compute execution time\n",
    "    dask_time = time.time() - start_time\n",
    "    n_processors_time[processor] = dask_time\n",
    "\n",
    "    print(f\"Execution Time with {processor} processors: {dask_time:.4f} seconds\")\n",
    "\n",
    "    # Close the Dask Client\n",
    "    client.close()\n"
   ]
  },
  {
   "cell_type": "code",
   "execution_count": 166,
   "id": "865edc9c-6a20-4415-857f-2d7e48546dda",
   "metadata": {},
   "outputs": [
    {
     "data": {
      "image/png": "[encoded data removed]",
      "text/plain": [
       "<Figure size 800x500 with 1 Axes>"
      ]
     },
     "metadata": {},
     "output_type": "display_data"
    }
   ],
   "source": [
    "#Compare Execution Time\n",
    "plt.figure(figsize=(8, 5))\n",
    "plt.bar(n_processors_time.keys(), n_processors_time.values(), color=['green', 'purple'])\n",
    "plt.xlabel(\"Number of Processors\")\n",
    "plt.ylabel(\"Execution Time (seconds)\")\n",
    "plt.title(\"Dask Execution Time: 10 vs 20 Processors\")\n",
    "plt.xticks(n_processors)\n",
    "plt.show()"
   ]
  },
  {
   "cell_type": "markdown",
   "id": "ff857434-5374-4210-86fa-4acfc41e6a39",
   "metadata": {},
   "source": [
    "**####QUESTION 1.d**\n"
   ]
  },
  {
   "cell_type": "code",
   "execution_count": 169,
   "id": "e98781c6-7fcb-4623-b08c-1cc57aba5325",
   "metadata": {},
   "outputs": [
    {
     "name": "stdout",
     "output_type": "stream",
     "text": [
      "Simulated trip frequencies:\n",
      " [ 88 105  99  85 110 104  87  87  99 105]\n"
     ]
    }
   ],
   "source": [
    "# Simulating Travel Frequency Based on Trip Length\n",
    "trip_lengths = df1.iloc[:, 9:19].mean().values  \n",
    "mu = np.mean(trip_lengths)  \n",
    "\n",
    "if mu > 100:  # Avoid too large values\n",
    "    mu = 100  \n",
    "\n",
    "poisson_model = stats.poisson(mu)\n",
    "simulated_trips = poisson_model.rvs(size=1000)  # Generate Poisson samples\n",
    "print(\"Simulated trip frequencies:\\n\", simulated_trips[:10])\n"
   ]
  },
  {
   "cell_type": "code",
   "execution_count": 171,
   "id": "0742ba05-ad70-4ace-aeb8-9b04efca5629",
   "metadata": {},
   "outputs": [
    {
     "data": {
      "image/png": "[encoded data removed]",
      "text/plain": [
       "<Figure size 1200x600 with 1 Axes>"
      ]
     },
     "metadata": {},
     "output_type": "display_data"
    }
   ],
   "source": [
    "# Plot total trips by distance category\n",
    "plt.figure(figsize=(12, 6))\n",
    "total_trips.plot(kind='bar', color='skyblue')\n",
    "plt.xlabel(\"Trip Distance Categories\")\n",
    "plt.ylabel(\"Total Number of Trips\")\n",
    "plt.title(\"Total Trips by Distance Category\")\n",
    "plt.xticks(rotation=45)\n",
    "plt.grid(axis='y', linestyle='--', alpha=0.7)\n",
    "plt.show()"
   ]
  },
  {
   "cell_type": "code",
   "execution_count": 173,
   "id": "7fbfcd94-aa0a-40ce-917e-9563e96207e2",
   "metadata": {},
   "outputs": [
    {
     "name": "stdout",
     "output_type": "stream",
     "text": [
      "Mean Trips per Day: 100.04\n",
      "Standard Deviation: 9.65\n",
      "Minimum Trips Observed: 68\n",
      "Maximum Trips Observed: 128\n"
     ]
    }
   ],
   "source": [
    "# Calculate statistics\n",
    "mean_trips = np.mean(simulated_trips)\n",
    "std_dev = np.std(simulated_trips)\n",
    "min_trips = np.min(simulated_trips)\n",
    "max_trips = np.max(simulated_trips)\n",
    " \n",
    "print(f\"Mean Trips per Day: {mean_trips:.2f}\")\n",
    "print(f\"Standard Deviation: {std_dev:.2f}\")\n",
    "print(f\"Minimum Trips Observed: {min_trips}\")\n",
    "print(f\"Maximum Trips Observed: {max_trips}\") "
   ]
  },
  {
   "cell_type": "code",
   "execution_count": 175,
   "id": "c63cd72c-bf15-42c1-948b-e75c37f17b51",
   "metadata": {},
   "outputs": [
    {
     "data": {
      "image/png": "[encoded data removed]",
      "text/plain": [
       "<Figure size 800x500 with 1 Axes>"
      ]
     },
     "metadata": {},
     "output_type": "display_data"
    }
   ],
   "source": [
    "# Plot histogram with Poisson distribution overlay\n",
    "plt.figure(figsize=(8, 5))\n",
    "plt.hist(simulated_trips, bins=30, density=True, alpha=0.6, color='blue', label=\"Simulated Trips\")\n",
    "\n",
    "# Theoretical Poisson distribution\n",
    "x = np.arange(min_trips, max_trips)\n",
    "poisson_probs = poisson_model.pmf(x)\n",
    "plt.scatter(x, poisson_probs, color='red', label=\"Theoretical Poisson\", alpha=0.8)\n",
    "\n",
    "plt.xlabel(\"Number of Trips per Day\")\n",
    "plt.ylabel(\"Probability Density\")\n",
    "plt.title(\"Simulated vs. Theoretical Poisson Distribution of Travel Frequency\")\n",
    "plt.legend()\n",
    "plt.show()"
   ]
  },
  {
   "cell_type": "code",
   "execution_count": 177,
   "id": "3fd14b41-11bb-442e-9350-12a7d211b16e",
   "metadata": {},
   "outputs": [],
   "source": [
    "# We can't merged both datasets  directly, as second dataset(df2)  is too small"
   ]
  },
  {
   "cell_type": "code",
   "execution_count": 179,
   "id": "ae9756bf-0730-4e02-8899-a7c4fc2987e4",
   "metadata": {},
   "outputs": [],
   "source": [
    "df1_selected = df1[['date', 'number_of_trips_5-10', 'number_of_trips_10-25']]\n",
    "df2_selected = df2[['date', 'trips_1-25_miles', 'trips_25-100_miles']]"
   ]
  },
  {
   "cell_type": "code",
   "execution_count": 181,
   "id": "a5fe6d83-6430-4fbd-9afc-232113d1d2f1",
   "metadata": {},
   "outputs": [
    {
     "data": {
      "text/html": [
       "<div>\n",
       "<style scoped>\n",
       "    .dataframe tbody tr th:only-of-type {\n",
       "        vertical-align: middle;\n",
       "    }\n",
       "\n",
       "    .dataframe tbody tr th {\n",
       "        vertical-align: top;\n",
       "    }\n",
       "\n",
       "    .dataframe thead th {\n",
       "        text-align: right;\n",
       "    }\n",
       "</style>\n",
       "<table border=\"1\" class=\"dataframe\">\n",
       "  <thead>\n",
       "    <tr style=\"text-align: right;\">\n",
       "      <th></th>\n",
       "      <th>date</th>\n",
       "      <th>number_of_trips_5-10</th>\n",
       "      <th>number_of_trips_10-25</th>\n",
       "    </tr>\n",
       "  </thead>\n",
       "  <tbody>\n",
       "    <tr>\n",
       "      <th>0</th>\n",
       "      <td>2019-01-01</td>\n",
       "      <td>389008778.0</td>\n",
       "      <td>350710314.0</td>\n",
       "    </tr>\n",
       "    <tr>\n",
       "      <th>1</th>\n",
       "      <td>2019-01-02</td>\n",
       "      <td>514907497.0</td>\n",
       "      <td>502234086.0</td>\n",
       "    </tr>\n",
       "    <tr>\n",
       "      <th>2</th>\n",
       "      <td>2019-01-03</td>\n",
       "      <td>527320887.0</td>\n",
       "      <td>516078313.0</td>\n",
       "    </tr>\n",
       "    <tr>\n",
       "      <th>3</th>\n",
       "      <td>2019-01-04</td>\n",
       "      <td>543968920.0</td>\n",
       "      <td>528429562.0</td>\n",
       "    </tr>\n",
       "    <tr>\n",
       "      <th>4</th>\n",
       "      <td>2019-01-05</td>\n",
       "      <td>542819222.0</td>\n",
       "      <td>495714599.0</td>\n",
       "    </tr>\n",
       "    <tr>\n",
       "      <th>...</th>\n",
       "      <td>...</td>\n",
       "      <td>...</td>\n",
       "      <td>...</td>\n",
       "    </tr>\n",
       "    <tr>\n",
       "      <th>898</th>\n",
       "      <td>2021-06-17</td>\n",
       "      <td>604595588.0</td>\n",
       "      <td>569505041.0</td>\n",
       "    </tr>\n",
       "    <tr>\n",
       "      <th>899</th>\n",
       "      <td>2021-06-18</td>\n",
       "      <td>619345208.0</td>\n",
       "      <td>581081145.0</td>\n",
       "    </tr>\n",
       "    <tr>\n",
       "      <th>900</th>\n",
       "      <td>2021-06-19</td>\n",
       "      <td>559407003.0</td>\n",
       "      <td>513495010.0</td>\n",
       "    </tr>\n",
       "    <tr>\n",
       "      <th>901</th>\n",
       "      <td>2021-06-20</td>\n",
       "      <td>5755854.0</td>\n",
       "      <td>5236976.0</td>\n",
       "    </tr>\n",
       "    <tr>\n",
       "      <th>902</th>\n",
       "      <td>2022-02-06</td>\n",
       "      <td>626203.0</td>\n",
       "      <td>539799.0</td>\n",
       "    </tr>\n",
       "  </tbody>\n",
       "</table>\n",
       "<p>903 rows × 3 columns</p>\n",
       "</div>"
      ],
      "text/plain": [
       "          date  number_of_trips_5-10  number_of_trips_10-25\n",
       "0   2019-01-01           389008778.0            350710314.0\n",
       "1   2019-01-02           514907497.0            502234086.0\n",
       "2   2019-01-03           527320887.0            516078313.0\n",
       "3   2019-01-04           543968920.0            528429562.0\n",
       "4   2019-01-05           542819222.0            495714599.0\n",
       "..         ...                   ...                    ...\n",
       "898 2021-06-17           604595588.0            569505041.0\n",
       "899 2021-06-18           619345208.0            581081145.0\n",
       "900 2021-06-19           559407003.0            513495010.0\n",
       "901 2021-06-20             5755854.0              5236976.0\n",
       "902 2022-02-06              626203.0               539799.0\n",
       "\n",
       "[903 rows x 3 columns]"
      ]
     },
     "execution_count": 181,
     "metadata": {},
     "output_type": "execute_result"
    }
   ],
   "source": [
    "df1_aggregated = df1_selected.groupby('date').sum().reset_index()\n",
    "df1_aggregated"
   ]
  },
  {
   "cell_type": "code",
   "execution_count": 183,
   "id": "d4d90a5d-ad9f-4add-b3e2-4cbe20a17bc8",
   "metadata": {},
   "outputs": [
    {
     "data": {
      "text/html": [
       "<div>\n",
       "<style scoped>\n",
       "    .dataframe tbody tr th:only-of-type {\n",
       "        vertical-align: middle;\n",
       "    }\n",
       "\n",
       "    .dataframe tbody tr th {\n",
       "        vertical-align: top;\n",
       "    }\n",
       "\n",
       "    .dataframe thead th {\n",
       "        text-align: right;\n",
       "    }\n",
       "</style>\n",
       "<table border=\"1\" class=\"dataframe\">\n",
       "  <thead>\n",
       "    <tr style=\"text-align: right;\">\n",
       "      <th></th>\n",
       "      <th>date</th>\n",
       "      <th>number_of_trips_5-10</th>\n",
       "      <th>number_of_trips_10-25</th>\n",
       "      <th>trips_1-25_miles</th>\n",
       "      <th>trips_25-100_miles</th>\n",
       "    </tr>\n",
       "  </thead>\n",
       "  <tbody>\n",
       "    <tr>\n",
       "      <th>0</th>\n",
       "      <td>2019-08-04</td>\n",
       "      <td>648345561.0</td>\n",
       "      <td>602749237.0</td>\n",
       "      <td>934957837</td>\n",
       "      <td>79429125</td>\n",
       "    </tr>\n",
       "    <tr>\n",
       "      <th>1</th>\n",
       "      <td>2019-08-05</td>\n",
       "      <td>693123104.0</td>\n",
       "      <td>686409470.0</td>\n",
       "      <td>996863262</td>\n",
       "      <td>86004297</td>\n",
       "    </tr>\n",
       "    <tr>\n",
       "      <th>2</th>\n",
       "      <td>2019-08-06</td>\n",
       "      <td>699726192.0</td>\n",
       "      <td>706845066.0</td>\n",
       "      <td>1014614495</td>\n",
       "      <td>87599579</td>\n",
       "    </tr>\n",
       "    <tr>\n",
       "      <th>3</th>\n",
       "      <td>2019-08-07</td>\n",
       "      <td>731595124.0</td>\n",
       "      <td>749946226.0</td>\n",
       "      <td>1084498325</td>\n",
       "      <td>92200386</td>\n",
       "    </tr>\n",
       "    <tr>\n",
       "      <th>4</th>\n",
       "      <td>2019-08-08</td>\n",
       "      <td>692784821.0</td>\n",
       "      <td>678151818.0</td>\n",
       "      <td>984193010</td>\n",
       "      <td>84193587</td>\n",
       "    </tr>\n",
       "    <tr>\n",
       "      <th>5</th>\n",
       "      <td>2019-08-09</td>\n",
       "      <td>726065657.0</td>\n",
       "      <td>736699650.0</td>\n",
       "      <td>1052793819</td>\n",
       "      <td>95005653</td>\n",
       "    </tr>\n",
       "    <tr>\n",
       "      <th>6</th>\n",
       "      <td>2019-08-10</td>\n",
       "      <td>710551154.0</td>\n",
       "      <td>691719111.0</td>\n",
       "      <td>1040967509</td>\n",
       "      <td>91829556</td>\n",
       "    </tr>\n",
       "  </tbody>\n",
       "</table>\n",
       "</div>"
      ],
      "text/plain": [
       "        date  number_of_trips_5-10  number_of_trips_10-25  trips_1-25_miles  \\\n",
       "0 2019-08-04           648345561.0            602749237.0         934957837   \n",
       "1 2019-08-05           693123104.0            686409470.0         996863262   \n",
       "2 2019-08-06           699726192.0            706845066.0        1014614495   \n",
       "3 2019-08-07           731595124.0            749946226.0        1084498325   \n",
       "4 2019-08-08           692784821.0            678151818.0         984193010   \n",
       "5 2019-08-09           726065657.0            736699650.0        1052793819   \n",
       "6 2019-08-10           710551154.0            691719111.0        1040967509   \n",
       "\n",
       "   trips_25-100_miles  \n",
       "0            79429125  \n",
       "1            86004297  \n",
       "2            87599579  \n",
       "3            92200386  \n",
       "4            84193587  \n",
       "5            95005653  \n",
       "6            91829556  "
      ]
     },
     "execution_count": 183,
     "metadata": {},
     "output_type": "execute_result"
    }
   ],
   "source": [
    "df_merged = df1_aggregated.merge(df2_selected, on=\"date\", how=\"inner\")\n",
    "df_merged"
   ]
  },
  {
   "cell_type": "code",
   "execution_count": 185,
   "id": "c81e3981-97cd-4983-8080-df15ab890a7a",
   "metadata": {},
   "outputs": [
    {
     "data": {
      "image/png": "[encoded data removed]",
      "text/plain": [
       "<Figure size 800x600 with 2 Axes>"
      ]
     },
     "metadata": {},
     "output_type": "display_data"
    }
   ],
   "source": [
    "# Correlation analysis\n",
    "plt.figure(figsize=(8, 6))\n",
    "sns.heatmap(df_merged.corr(numeric_only=True), annot=True, cmap='coolwarm', fmt=\".2f\")\n",
    "plt.title(\"Feature Correlation Heatmap\")\n",
    "plt.show() "
   ]
  },
  {
   "cell_type": "code",
   "execution_count": 187,
   "id": "47e031a0-2e93-4fc5-b2b8-7b0c12659b84",
   "metadata": {},
   "outputs": [],
   "source": [
    "# Define X (independent variable) and Y (dependent variable)\n",
    "X = df_merged[['number_of_trips_5-10']]\n",
    "y = df_merged['trips_1-25_miles'] "
   ]
  },
  {
   "cell_type": "code",
   "execution_count": 189,
   "id": "c9756688-9dde-43af-be0f-3bd228a78460",
   "metadata": {},
   "outputs": [],
   "source": [
    "# Train-test split\n",
    "X_train, X_test, y_train, y_test = train_test_split(X, y, test_size=0.2, random_state=42)"
   ]
  },
  {
   "cell_type": "code",
   "execution_count": 191,
   "id": "00b9c33a-f3a3-45df-ade4-3c6832e82680",
   "metadata": {},
   "outputs": [],
   "source": [
    "# ========== Linear Regression ==========\n",
    "lin_reg = LinearRegression()\n",
    "lin_reg.fit(X_train, y_train)\n",
    "y_pred_linear = lin_reg.predict(X_test)"
   ]
  },
  {
   "cell_type": "code",
   "execution_count": 193,
   "id": "f8c53cb8-4171-4ca4-bcdd-73c737736005",
   "metadata": {},
   "outputs": [],
   "source": [
    "# ========== Polynomial Regression (degree=2) ==========\n",
    "poly = PolynomialFeatures(degree=2)\n",
    "X_poly_train = poly.fit_transform(X_train)\n",
    "X_poly_test = poly.transform(X_test)\n",
    "\n",
    "poly_reg = LinearRegression()\n",
    "poly_reg.fit(X_poly_train, y_train)\n",
    "y_pred_poly = poly_reg.predict(X_poly_test)"
   ]
  },
  {
   "cell_type": "code",
   "execution_count": 195,
   "id": "376fbdfd-70ab-4fcc-a5a8-ca5e0826a0d8",
   "metadata": {},
   "outputs": [],
   "source": [
    "# ========== Random Forest Regression ==========\n",
    "rf_reg = RandomForestRegressor(n_estimators=5, random_state=42)\n",
    "rf_reg.fit(X_train, y_train)\n",
    "y_pred_rf = rf_reg.predict(X_test)"
   ]
  },
  {
   "cell_type": "code",
   "execution_count": 197,
   "id": "c4dab29b-c575-49ce-8bfd-369a4fce9eec",
   "metadata": {},
   "outputs": [
    {
     "name": "stdout",
     "output_type": "stream",
     "text": [
      "Linear Regression Performance:\n",
      "MAE: 21961730.55199182\n",
      "R2 Score: 0.13941005919181504\n",
      "------------------------------\n",
      "Polynomial Regression Performance:\n",
      "MAE: 70317607.87451458\n",
      "R2 Score: -8.320623827764146\n",
      "------------------------------\n",
      "Random Forest Regression Performance:\n",
      "MAE: 30952712.5\n",
      "R2 Score: -0.6197236280132745\n",
      "------------------------------\n"
     ]
    }
   ],
   "source": [
    "# Model Evaluation\n",
    "def evaluate_model(name, y_test, y_pred):\n",
    "    print(f\"{name} Performance:\")\n",
    "    print(\"MAE:\", mean_absolute_error(y_test, y_pred))\n",
    "    print(\"R2 Score:\", r2_score(y_test, y_pred))\n",
    "    print(\"-\" * 30)\n",
    "\n",
    "evaluate_model(\"Linear Regression\", y_test, y_pred_linear)\n",
    "evaluate_model(\"Polynomial Regression\", y_test, y_pred_poly)\n",
    "evaluate_model(\"Random Forest Regression\", y_test, y_pred_rf)\n",
    "# low accurary  because data is too less"
   ]
  },
  {
   "cell_type": "markdown",
   "id": "c24af881-5150-40df-82c4-e12d32b702cb",
   "metadata": {},
   "source": [
    "**#####QUESTION 1.e**"
   ]
  },
  {
   "cell_type": "code",
   "execution_count": 200,
   "id": "f0c56474-7970-48a4-a2e1-56dd1e71bdcd",
   "metadata": {},
   "outputs": [
    {
     "data": {
      "text/plain": [
       "trips_1-25_miles      7108888257\n",
       "trips_25-100_miles     616262183\n",
       "dtype: int64"
      ]
     },
     "execution_count": 200,
     "metadata": {},
     "output_type": "execute_result"
    }
   ],
   "source": [
    "# Selecting columns for visualization\n",
    "distance_trip_columns = ['trips_1-25_miles', 'trips_25-100_miles']\n",
    "df_vis = df2[distance_trip_columns].sum()\n",
    "df_vis"
   ]
  },
  {
   "cell_type": "code",
   "execution_count": 206,
   "id": "96fb6cd4-9ef6-4df7-b975-05d467eeeb87",
   "metadata": {},
   "outputs": [
    {
     "name": "stderr",
     "output_type": "stream",
     "text": [
      "C:\\Users\\kalkat\\AppData\\Local\\Temp\\ipykernel_11032\\1998243950.py:3: FutureWarning: \n",
      "\n",
      "Passing `palette` without assigning `hue` is deprecated and will be removed in v0.14.0. Assign the `x` variable to `hue` and set `legend=False` for the same effect.\n",
      "\n",
      "  sns.barplot(x=df_vis.index, y=df_vis.values, palette=\"viridis\")\n"
     ]
    },
    {
     "data": {
      "image/png": "[encoded data removed]",
      "text/plain": [
       "<Figure size 800x500 with 1 Axes>"
      ]
     },
     "metadata": {},
     "output_type": "display_data"
    }
   ],
   "source": [
    "# Plot Bar Chart\n",
    "plt.figure(figsize=(8, 5))\n",
    "sns.barplot(x=df_vis.index, y=df_vis.values, palette=\"viridis\")\n",
    "plt.xlabel(\"Trip Distance Ranges\")\n",
    "plt.ylabel(\"Number of Travelers\")\n",
    "plt.title(\"Number of Travelers by Distance-Trips\")\n",
    "plt.xticks(rotation=45)\n",
    "plt.show()"
   ]
  },
  {
   "cell_type": "code",
   "execution_count": 204,
   "id": "e2b8c443-43ca-4940-824e-0bc7a28710e4",
   "metadata": {},
   "outputs": [
    {
     "data": {
      "image/png": "[encoded data removed]",
      "text/plain": [
       "<Figure size 600x600 with 1 Axes>"
      ]
     },
     "metadata": {},
     "output_type": "display_data"
    }
   ],
   "source": [
    "# Pie Chart\n",
    "plt.figure(figsize=(6, 6))\n",
    "plt.pie(df_vis.values, labels=df_vis.index, autopct=\"%1.1f%%\", colors=[\"skyblue\", \"orange\"], startangle=140)\n",
    "plt.title(\"Proportion of Travelers by Distance\")\n",
    "plt.show()"
   ]
  },
  {
   "cell_type": "code",
   "execution_count": 208,
   "id": "4946e2eb-cea8-4bb4-bceb-7e4f4037fdf8",
   "metadata": {},
   "outputs": [
    {
     "data": {
      "image/png": "[encoded data removed]",
      "text/plain": [
       "<Figure size 800x500 with 1 Axes>"
      ]
     },
     "metadata": {},
     "output_type": "display_data"
    }
   ],
   "source": [
    "# Histogram\n",
    "plt.figure(figsize=(8, 5))\n",
    "sns.histplot(df2[distance_trip_columns], kde=True, bins=15, palette=\"coolwarm\")\n",
    "plt.xlabel(\"Distance Categories\")\n",
    "plt.ylabel(\"Frequency\")\n",
    "plt.title(\"Distribution of Travelers by Distance\")\n",
    "plt.show()\n"
   ]
  },
  {
   "cell_type": "code",
   "execution_count": 210,
   "id": "b33a6441-2275-40f9-b793-79a7dddf3779",
   "metadata": {},
   "outputs": [
    {
     "data": {
      "image/png": "[encoded data removed]",
      "text/plain": [
       "<Figure size 640x480 with 1 Axes>"
      ]
     },
     "metadata": {},
     "output_type": "display_data"
    }
   ],
   "source": [
    "short_trips = df1.iloc[:, 9:14].sum().values  # short trip columns\n",
    "long_trips = df1.iloc[:, 14:19].sum().values  # long trip columns\n",
    "\n",
    "# Compare short vs. long trip distributions\n",
    "sns.kdeplot(short_trips, label=\"Short Trips\", fill=True)\n",
    "sns.kdeplot(long_trips, label=\"Long Trips\", fill=True)\n",
    "plt.legend()\n",
    "plt.title(\"Short vs. Long Trip Frequencies\")\n",
    "plt.show()"
   ]
  },
  {
   "cell_type": "code",
   "execution_count": null,
   "id": "03394bb2-5d22-463f-9872-45c76b60ee1d",
   "metadata": {},
   "outputs": [],
   "source": []
  }
 ],
 "metadata": {
  "kernelspec": {
   "display_name": "Python [conda env:base] *",
   "language": "python",
   "name": "conda-base-py"
  },
  "language_info": {
   "codemirror_mode": {
    "name": "ipython",
    "version": 3
   },
   "file_extension": ".py",
   "mimetype": "text/x-python",
   "name": "python",
   "nbconvert_exporter": "python",
   "pygments_lexer": "ipython3",
   "version": "3.12.7"
  }
 },
 "nbformat": 4,
 "nbformat_minor": 5
}
